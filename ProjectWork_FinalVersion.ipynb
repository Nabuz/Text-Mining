{
 "cells": [
  {
   "cell_type": "code",
   "execution_count": null,
   "metadata": {
    "collapsed": true
   },
   "outputs": [],
   "source": [
    "Importing the different libraries:"
   ]
  },
  {
   "cell_type": "code",
   "execution_count": 1,
   "metadata": {},
   "outputs": [
    {
     "name": "stdout",
     "output_type": "stream",
     "text": [
      "[nltk_data] Downloading package punkt to C:\\Users\\nabu-\n",
      "[nltk_data]     pc\\AppData\\Roaming\\nltk_data...\n",
      "[nltk_data]   Package punkt is already up-to-date!\n"
     ]
    }
   ],
   "source": [
    "import pandas as pd\n",
    "import numpy as np\n",
    "import re  #For managing the regular expession--> a filter for text\n",
    "from sklearn.feature_extraction.text import CountVectorizer # this library is used to transform the text to a vector (bags of words)\n",
    "from sklearn.model_selection import train_test_split   #to divide the dataset in training and test set\n",
    "from sklearn.linear_model import LogisticRegression  #to utilize the logistic regression\n",
    "from sklearn.pipeline import Pipeline   # Pileline implementation\n",
    "from sklearn.feature_extraction.text import TfidfVectorizer  #To work with tf.idf term weight\n",
    "import nltk  #This libraty is builded to work with token/stems \n",
    "nltk.download(\"punkt\") #as above\n",
    "from sklearn import tree\n",
    "from sklearn.metrics import confusion_matrix  #To check the accuracy->confusion matrix\n",
    "from sklearn.model_selection import cross_val_score  #To work with cross validation\n",
    "from sklearn.ensemble import RandomForestClassifier #Random Forest CLassifier\n",
    "from sklearn.naive_bayes import MultinomialNB #Multinomial naive Bayer Classifier\n",
    "import xgboost as xgb #XgBoost Classifier\n",
    "r_state=42"
   ]
  },
  {
   "cell_type": "markdown",
   "metadata": {},
   "source": [
    "We create some definitions for cleaning (second part):"
   ]
  },
  {
   "cell_type": "code",
   "execution_count": 2,
   "metadata": {
    "collapsed": true
   },
   "outputs": [],
   "source": [
    "def pulizia(item):\n",
    "    for i in item:\n",
    "        item = re.sub(\"\\d+\", \" \", item) #It replaces the numbers with empty values\n",
    "        item= re.sub(\"\\W+\", \" \", item) #It replaces special caracters with an empty value (non alphanumeric character)\n",
    "    return item"
   ]
  },
  {
   "cell_type": "code",
   "execution_count": 3,
   "metadata": {
    "collapsed": true
   },
   "outputs": [],
   "source": [
    "def clean(item):\n",
    "    for i in item:\n",
    "        item = re.sub(\"\\D+\", \" \", item) #It replaces any non-digit character (alpha + special character) with an empty value \n",
    "    return item"
   ]
  },
  {
   "cell_type": "code",
   "execution_count": 4,
   "metadata": {
    "collapsed": true
   },
   "outputs": [],
   "source": [
    "def delete(item):\n",
    "    item = item.lower().split()\n",
    "    cancellare = ['codaf','sabina','elisena martina','marzia','e','sig ra','marzia e','erica','marco','sergio','r','urgente','doris','sig ','marchetti','moreno','federica','richimare','ombreatta','simonetta','stura','milena','(',')','anariten','dtb' ,'x','per','helpdesk', '/', 'richiamare', 'carmela','paola' , 'alessandra' , 'francesco','francesca' , 'giorgia' , 'claudia' , 'paolo' , 'cristina' , 'giuseppe' , 'caterina' , 'carmela' , 'barbara' , 'antonio' , 'michela' , 'elena' , 'ddt' , 'simone' , 'emanuela' , 'silvia' , 'claudio' , 'roberto' , 'laura' , 'massimo' , 'romina' , 'mirella' , 'marco' , 'sara' , 'lara' , 'roberta' , 'davide' , 'mauro' , 'maria' , 'gianni' , 'chiara' , 'rita' , 'sabrina' , 'gabriella' , 'vanessa' , 'lucia' , 'giovanna' , 'maila' , 'andrea' , 'catia' , 'marusca' , 'gazzi' , 'marina' , 'ariadna' , 'monica' , 'giuliano' , 'vanna' , 'ottaviani' , 'saloli' , 'irene' , 'guzzaroni' , 'tiziana' , 'manuela' , 'arianna' , 'marianna' , 'lube' , 'stefano' , 'giuseppina' , 'teresa' , 'ylenia' , 'luciano' , 'nadia' , 'grazia' , 'ciao' , 'sele' , 'katia' , 'camilletti' , 'daniela' , 'srl' , 'defoot' , 'luca' , 'brogliaccio' , 'elvio' , 'brunori' , 'patrizia' , 'marica' , 'sonia' , 'antonella' , 'lorenzo' , 'nicola' , 'giacomo' , 'noemi' , 'tonino' , 'franco' , 'battistoni' , 'mosciatti' , 'fabrizio' , 'david' , 'michele' , 'giovanni' , 'cinzia' , 'valentina' , 'desc' , 'merlonni' , 'elisabetta' , 'angela' , 'isabella' , 'sandro' , 'ilaria' , 'danila' , 'elisa' , 'miriam' , 'orietta' , 'daniele' , 'stefania' , 'adria' , 'collega' , 'matteo' , 'leonardo' , 'carmelica' , 'marika' , 'elisena' , 'alberto' , 'emanuele' , 'raffaele' , 'gianfranco' , 'letizia' , 'tania' , 'denis' , 'gabriele' , '' , 'enasarco' , 'ester' , 'silvana' , 'guido' , 'mariarita' , 'raffaella' , 'walter' , 'mara' , 'linneo' , 'ivano' , 'ghergo' , 'luigi' , 'giulia' , 'vittorio' , 'san' , 'fabio' , 'bacchiani' , 'luciana' , 'giusi' , 'mirian' , 'lorena' , 'baiardi' , 'sirolo' , 'mario' , 'corvatta' , 'alessandro' , 'giogia' , 'urgente' , 'helpdesk' , 'pezzella' , 'chiarimenti' , '' , 'saloli' , 'guazzaroni' , 'lube' , 'med' , 'giuseppina' , 'ylenia' , 'mrp' , 'grazia' , 'katia' , 'camilletti' , 'daniela' , 'sedoor' , 'brunori' , 'petriccione' , 'tonino' , 'mosciatti' ,'donatella','moreno', 'david' , 'irci' , 'merloni' , 'anusca' , 'urgentemente','lupini','antonelli']\n",
    "    for i in cancellare:\n",
    "        while i in item:\n",
    "            variable = item.index(i)\n",
    "            item.pop(variable)\n",
    "    item=' '.join(map(str, item))\n",
    "    item=str(item)\n",
    "    return item"
   ]
  },
  {
   "cell_type": "code",
   "execution_count": 5,
   "metadata": {
    "collapsed": true
   },
   "outputs": [],
   "source": [
    "def StringToInt(item):\n",
    "    item = int(item)\n",
    "    return item"
   ]
  },
  {
   "cell_type": "markdown",
   "metadata": {},
   "source": [
    "# Task1: Sentiment Analysis\n",
    "### Scope: We need to do sentiment analysis on a precise column (Descrizione_Risolutore). In this way we obtain another column (SA) with positive/negative label according to the previous column."
   ]
  },
  {
   "cell_type": "markdown",
   "metadata": {},
   "source": [
    "Importing CSV and working a little on cleaning (NUll values):"
   ]
  },
  {
   "cell_type": "code",
   "execution_count": 6,
   "metadata": {
    "collapsed": true
   },
   "outputs": [],
   "source": [
    "df = pd.read_csv(r\"C:\\Users\\nabu-pc\\Desktop\\Data Science\\Project field\\labelHani.csv\",sep=\";\",encoding =\"unicode_escape\")"
   ]
  },
  {
   "cell_type": "code",
   "execution_count": 7,
   "metadata": {},
   "outputs": [
    {
     "data": {
      "text/html": [
       "<div>\n",
       "<style scoped>\n",
       "    .dataframe tbody tr th:only-of-type {\n",
       "        vertical-align: middle;\n",
       "    }\n",
       "\n",
       "    .dataframe tbody tr th {\n",
       "        vertical-align: top;\n",
       "    }\n",
       "\n",
       "    .dataframe thead th {\n",
       "        text-align: right;\n",
       "    }\n",
       "</style>\n",
       "<table border=\"1\" class=\"dataframe\">\n",
       "  <thead>\n",
       "    <tr style=\"text-align: right;\">\n",
       "      <th></th>\n",
       "      <th>Unnamed: 0</th>\n",
       "      <th>durata_risoluzione</th>\n",
       "      <th>Cliente</th>\n",
       "      <th>Utente_Preso_chiamata</th>\n",
       "      <th>Utente_Che_ha_risolto</th>\n",
       "      <th>Data_Arrivo_chiamata</th>\n",
       "      <th>Descrizione_Chiamata</th>\n",
       "      <th>Classe</th>\n",
       "      <th>Natura</th>\n",
       "      <th>Nome_Programma_Inerente_Chiamata</th>\n",
       "      <th>Origine_Proglema</th>\n",
       "      <th>ID_CHIAMATA</th>\n",
       "      <th>Sentiment Analysis</th>\n",
       "      <th>Descrizione_Risolutore</th>\n",
       "      <th>Data_Chiusura_Chiamata</th>\n",
       "      <th>Data_Gestione_Chiamata</th>\n",
       "      <th>newcall</th>\n",
       "      <th>label</th>\n",
       "      <th>Unnamed: 18</th>\n",
       "    </tr>\n",
       "  </thead>\n",
       "  <tbody>\n",
       "    <tr>\n",
       "      <th>0</th>\n",
       "      <td>9572</td>\n",
       "      <td>56</td>\n",
       "      <td>22</td>\n",
       "      <td>34</td>\n",
       "      <td>34</td>\n",
       "      <td>17/11/2016 17:21</td>\n",
       "      <td>Per HelpDesk / Richiamare Paolo x Comessa</td>\n",
       "      <td>SW</td>\n",
       "      <td>sw</td>\n",
       "      <td>NaN</td>\n",
       "      <td>Configurazione</td>\n",
       "      <td>67398</td>\n",
       "      <td>Pos</td>\n",
       "      <td>Fatto Query 9. per trovare ore fatturate da qu...</td>\n",
       "      <td>17/11/2016 18:18</td>\n",
       "      <td>giovedì 17 novembre 2016</td>\n",
       "      <td>comessa</td>\n",
       "      <td>commessa</td>\n",
       "      <td>NaN</td>\n",
       "    </tr>\n",
       "    <tr>\n",
       "      <th>1</th>\n",
       "      <td>10149</td>\n",
       "      <td>3</td>\n",
       "      <td>1632</td>\n",
       "      <td>62</td>\n",
       "      <td>34</td>\n",
       "      <td>15/11/2017 11:35</td>\n",
       "      <td>Per HelpDesk / Richiamare Sig. Tagliafierro\\n\\...</td>\n",
       "      <td>SW</td>\n",
       "      <td>sw</td>\n",
       "      <td>Contabile</td>\n",
       "      <td>Cliente</td>\n",
       "      <td>71129</td>\n",
       "      <td>Neg</td>\n",
       "      <td>Non riesco a contattare il numero telefonico 0...</td>\n",
       "      <td>10/04/2018 15:09</td>\n",
       "      <td>giovedì 16 novembre 2017</td>\n",
       "      <td>sig tagliafierro registrazione nota credito te...</td>\n",
       "      <td>mastrino</td>\n",
       "      <td>NaN</td>\n",
       "    </tr>\n",
       "  </tbody>\n",
       "</table>\n",
       "</div>"
      ],
      "text/plain": [
       "   Unnamed: 0  durata_risoluzione  Cliente  Utente_Preso_chiamata  \\\n",
       "0        9572                  56       22                     34   \n",
       "1       10149                   3     1632                     62   \n",
       "\n",
       "   Utente_Che_ha_risolto Data_Arrivo_chiamata  \\\n",
       "0                     34     17/11/2016 17:21   \n",
       "1                     34     15/11/2017 11:35   \n",
       "\n",
       "                                Descrizione_Chiamata Classe Natura  \\\n",
       "0          Per HelpDesk / Richiamare Paolo x Comessa     SW     sw   \n",
       "1  Per HelpDesk / Richiamare Sig. Tagliafierro\\n\\...     SW     sw   \n",
       "\n",
       "  Nome_Programma_Inerente_Chiamata Origine_Proglema  ID_CHIAMATA  \\\n",
       "0                              NaN   Configurazione        67398   \n",
       "1                        Contabile          Cliente        71129   \n",
       "\n",
       "  Sentiment Analysis                             Descrizione_Risolutore  \\\n",
       "0                Pos  Fatto Query 9. per trovare ore fatturate da qu...   \n",
       "1                Neg  Non riesco a contattare il numero telefonico 0...   \n",
       "\n",
       "  Data_Chiusura_Chiamata    Data_Gestione_Chiamata  \\\n",
       "0       17/11/2016 18:18  giovedì 17 novembre 2016   \n",
       "1       10/04/2018 15:09  giovedì 16 novembre 2017   \n",
       "\n",
       "                                             newcall     label Unnamed: 18  \n",
       "0                                            comessa  commessa         NaN  \n",
       "1  sig tagliafierro registrazione nota credito te...  mastrino         NaN  "
      ]
     },
     "execution_count": 7,
     "metadata": {},
     "output_type": "execute_result"
    }
   ],
   "source": [
    "df.head(2)"
   ]
  },
  {
   "cell_type": "code",
   "execution_count": 8,
   "metadata": {
    "collapsed": true
   },
   "outputs": [],
   "source": [
    "df = df.dropna(axis=0, subset=['Descrizione_Risolutore'])    #We need to clean the \"Descrizione_Risolutore\" column from NULL values"
   ]
  },
  {
   "cell_type": "code",
   "execution_count": 9,
   "metadata": {},
   "outputs": [
    {
     "data": {
      "text/plain": [
       "646"
      ]
     },
     "execution_count": 9,
     "metadata": {},
     "output_type": "execute_result"
    }
   ],
   "source": [
    "len(df)"
   ]
  },
  {
   "cell_type": "code",
   "execution_count": 10,
   "metadata": {
    "collapsed": true
   },
   "outputs": [],
   "source": [
    "df.rename(columns={'Sentiment Analysis':'SA'}, inplace=True)"
   ]
  },
  {
   "cell_type": "code",
   "execution_count": 11,
   "metadata": {},
   "outputs": [
    {
     "data": {
      "text/plain": [
       "Pos    490\n",
       "Neg    156\n",
       "Name: SA, dtype: int64"
      ]
     },
     "execution_count": 11,
     "metadata": {},
     "output_type": "execute_result"
    }
   ],
   "source": [
    "df[\"SA\"].value_counts()  # the classes are balanced!!"
   ]
  },
  {
   "cell_type": "markdown",
   "metadata": {},
   "source": [
    "Classification with a Supervised Traning Model: model1 (Vector + Logistic Regression)"
   ]
  },
  {
   "cell_type": "code",
   "execution_count": 12,
   "metadata": {
    "collapsed": true
   },
   "outputs": [],
   "source": [
    "\n",
    "X_train, X_test, y_train, y_test = train_test_split(df.Descrizione_Risolutore, df.SA, random_state=42)"
   ]
  },
  {
   "cell_type": "code",
   "execution_count": 13,
   "metadata": {},
   "outputs": [
    {
     "data": {
      "text/plain": [
       "Pos    374\n",
       "Neg    110\n",
       "Name: SA, dtype: int64"
      ]
     },
     "execution_count": 13,
     "metadata": {},
     "output_type": "execute_result"
    }
   ],
   "source": [
    "y_train.value_counts()  #The training set is balanced!!"
   ]
  },
  {
   "cell_type": "code",
   "execution_count": 14,
   "metadata": {},
   "outputs": [
    {
     "data": {
      "text/plain": [
       "Pos    116\n",
       "Neg     46\n",
       "Name: SA, dtype: int64"
      ]
     },
     "execution_count": 14,
     "metadata": {},
     "output_type": "execute_result"
    }
   ],
   "source": [
    "y_test.value_counts()   #The test set is balanced!!!"
   ]
  },
  {
   "cell_type": "code",
   "execution_count": 15,
   "metadata": {
    "collapsed": true
   },
   "outputs": [],
   "source": [
    "model1 = Pipeline([                           # I create a pipeline = at the same time create a vector and apply a logistic classifier\n",
    "    (\"vectorizer\", TfidfVectorizer()),\n",
    "    (\"classifier\", LogisticRegression())\n",
    "])"
   ]
  },
  {
   "cell_type": "code",
   "execution_count": 16,
   "metadata": {},
   "outputs": [
    {
     "data": {
      "text/plain": [
       "Pipeline(memory=None,\n",
       "     steps=[('vectorizer', TfidfVectorizer(analyzer='word', binary=False, decode_error='strict',\n",
       "        dtype=<class 'numpy.int64'>, encoding='utf-8', input='content',\n",
       "        lowercase=True, max_df=1.0, max_features=None, min_df=1,\n",
       "        ngram_range=(1, 1), norm='l2', preprocessor=None, smooth_idf=Tr...ty='l2', random_state=None, solver='liblinear', tol=0.0001,\n",
       "          verbose=0, warm_start=False))])"
      ]
     },
     "execution_count": 16,
     "metadata": {},
     "output_type": "execute_result"
    }
   ],
   "source": [
    "model1.fit(X_train, y_train)"
   ]
  },
  {
   "cell_type": "code",
   "execution_count": 17,
   "metadata": {
    "collapsed": true
   },
   "outputs": [],
   "source": [
    "score1 = model1.score(X_test, y_test)"
   ]
  },
  {
   "cell_type": "code",
   "execution_count": 18,
   "metadata": {},
   "outputs": [
    {
     "data": {
      "text/plain": [
       "0.75308641975308643"
      ]
     },
     "execution_count": 18,
     "metadata": {},
     "output_type": "execute_result"
    }
   ],
   "source": [
    "score1"
   ]
  },
  {
   "cell_type": "code",
   "execution_count": 19,
   "metadata": {
    "collapsed": true
   },
   "outputs": [],
   "source": [
    "pred=model1.predict(X_test)"
   ]
  },
  {
   "cell_type": "code",
   "execution_count": 20,
   "metadata": {},
   "outputs": [
    {
     "name": "stdout",
     "output_type": "stream",
     "text": [
      "     Neg  Pos\n",
      "Neg    7    1\n",
      "Pos   39  115\n"
     ]
    }
   ],
   "source": [
    "cm_df = pd.DataFrame(confusion_matrix(np.asarray(y_test), pred).T, index=model1.classes_,\n",
    "                     columns=model1.classes_)\n",
    "print(cm_df)"
   ]
  },
  {
   "cell_type": "markdown",
   "metadata": {},
   "source": [
    "Improving our model with stemming :"
   ]
  },
  {
   "cell_type": "code",
   "execution_count": 21,
   "metadata": {
    "collapsed": true
   },
   "outputs": [],
   "source": [
    "ps = nltk.stem.PorterStemmer()"
   ]
  },
  {
   "cell_type": "code",
   "execution_count": 22,
   "metadata": {
    "collapsed": true
   },
   "outputs": [],
   "source": [
    "def tokenize_with_stemming(text):     # setting a function to get stems from a text\n",
    "    return [ps.stem(token) for token\n",
    "        in nltk.tokenize.word_tokenize(text)]"
   ]
  },
  {
   "cell_type": "code",
   "execution_count": 23,
   "metadata": {},
   "outputs": [
    {
     "data": {
      "text/plain": [
       "['pino', 'pinetto', 'pinotto', 'ara']"
      ]
     },
     "execution_count": 23,
     "metadata": {},
     "output_type": "execute_result"
    }
   ],
   "source": [
    "tokenize_with_stemming(\"pino pinetto pinotto ara\")"
   ]
  },
  {
   "cell_type": "code",
   "execution_count": 24,
   "metadata": {
    "collapsed": true
   },
   "outputs": [],
   "source": [
    "model2 = Pipeline([\n",
    "    (\"vectorizer\", TfidfVectorizer(min_df=3, tokenizer=tokenize_with_stemming)),\n",
    "    (\"classifier\", LogisticRegression())\n",
    "])"
   ]
  },
  {
   "cell_type": "code",
   "execution_count": 25,
   "metadata": {},
   "outputs": [
    {
     "data": {
      "text/plain": [
       "Pipeline(memory=None,\n",
       "     steps=[('vectorizer', TfidfVectorizer(analyzer='word', binary=False, decode_error='strict',\n",
       "        dtype=<class 'numpy.int64'>, encoding='utf-8', input='content',\n",
       "        lowercase=True, max_df=1.0, max_features=None, min_df=3,\n",
       "        ngram_range=(1, 1), norm='l2', preprocessor=None, smooth_idf=Tr...ty='l2', random_state=None, solver='liblinear', tol=0.0001,\n",
       "          verbose=0, warm_start=False))])"
      ]
     },
     "execution_count": 25,
     "metadata": {},
     "output_type": "execute_result"
    }
   ],
   "source": [
    "model2.fit(X_train, y_train)"
   ]
  },
  {
   "cell_type": "code",
   "execution_count": 26,
   "metadata": {
    "collapsed": true
   },
   "outputs": [],
   "source": [
    "score2 = model2.score(X_test, y_test)"
   ]
  },
  {
   "cell_type": "code",
   "execution_count": 27,
   "metadata": {},
   "outputs": [
    {
     "data": {
      "text/plain": [
       "0.77160493827160492"
      ]
     },
     "execution_count": 27,
     "metadata": {},
     "output_type": "execute_result"
    }
   ],
   "source": [
    "score2"
   ]
  },
  {
   "cell_type": "code",
   "execution_count": 28,
   "metadata": {
    "collapsed": true
   },
   "outputs": [],
   "source": [
    "pred=model2.predict(X_test)"
   ]
  },
  {
   "cell_type": "code",
   "execution_count": 29,
   "metadata": {},
   "outputs": [
    {
     "name": "stdout",
     "output_type": "stream",
     "text": [
      "     Neg  Pos\n",
      "Neg   10    1\n",
      "Pos   36  115\n"
     ]
    }
   ],
   "source": [
    "cm_df = pd.DataFrame(confusion_matrix(np.asarray(y_test), pred).T, index=model2.classes_,\n",
    "                     columns=model2.classes_)\n",
    "print(cm_df)"
   ]
  },
  {
   "cell_type": "markdown",
   "metadata": {},
   "source": [
    "Improving our model with bigrams and max features(165):"
   ]
  },
  {
   "cell_type": "code",
   "execution_count": 30,
   "metadata": {
    "collapsed": true
   },
   "outputs": [],
   "source": [
    "model3 = Pipeline([\n",
    "    (\"vectorizer\", TfidfVectorizer(min_df=3, ngram_range=(1, 2), tokenizer=tokenize_with_stemming,max_features=165)),\n",
    "    (\"classifier\", LogisticRegression())\n",
    "])"
   ]
  },
  {
   "cell_type": "code",
   "execution_count": 31,
   "metadata": {
    "collapsed": true
   },
   "outputs": [],
   "source": [
    "model3.fit(X_train, y_train);"
   ]
  },
  {
   "cell_type": "code",
   "execution_count": 32,
   "metadata": {
    "collapsed": true
   },
   "outputs": [],
   "source": [
    "score3 = model3.score(X_test, y_test)  "
   ]
  },
  {
   "cell_type": "code",
   "execution_count": 33,
   "metadata": {},
   "outputs": [
    {
     "data": {
      "text/plain": [
       "0.80246913580246915"
      ]
     },
     "execution_count": 33,
     "metadata": {},
     "output_type": "execute_result"
    }
   ],
   "source": [
    "score3"
   ]
  },
  {
   "cell_type": "code",
   "execution_count": 34,
   "metadata": {
    "collapsed": true
   },
   "outputs": [],
   "source": [
    "pred=model3.predict(X_test)"
   ]
  },
  {
   "cell_type": "code",
   "execution_count": 35,
   "metadata": {},
   "outputs": [
    {
     "name": "stdout",
     "output_type": "stream",
     "text": [
      "     Neg  Pos\n",
      "Neg   15    1\n",
      "Pos   31  115\n"
     ]
    }
   ],
   "source": [
    "cm_df = pd.DataFrame(confusion_matrix(np.asarray(y_test), pred).T, index=model3.classes_,\n",
    "                     columns=model3.classes_)\n",
    "print(cm_df)"
   ]
  },
  {
   "cell_type": "markdown",
   "metadata": {},
   "source": [
    "Try with cross-validation method:"
   ]
  },
  {
   "cell_type": "code",
   "execution_count": 36,
   "metadata": {},
   "outputs": [
    {
     "name": "stdout",
     "output_type": "stream",
     "text": [
      "The average accuracy computed with Cross Validation is 84.38%\n"
     ]
    }
   ],
   "source": [
    "scores = cross_val_score(model3, df.Descrizione_Risolutore, df.SA, scoring='accuracy', cv = 10)\n",
    "average_accuracy = np.mean(scores) * 100\n",
    "print(\"The average accuracy computed with Cross Validation is {0:.2f}%\".format(average_accuracy))  #Cross-validation improve the result!!!"
   ]
  },
  {
   "cell_type": "markdown",
   "metadata": {},
   "source": [
    "Trying with random Forest!!!"
   ]
  },
  {
   "cell_type": "code",
   "execution_count": 37,
   "metadata": {
    "collapsed": true
   },
   "outputs": [],
   "source": [
    "model4 = Pipeline([\n",
    "    (\"vectorizer\", TfidfVectorizer(min_df=3, ngram_range=(1, 2),tokenizer=tokenize_with_stemming,max_features=165)),\n",
    "    (\"classifier\", RandomForestClassifier(n_estimators=500))\n",
    "])"
   ]
  },
  {
   "cell_type": "code",
   "execution_count": 38,
   "metadata": {
    "collapsed": true
   },
   "outputs": [],
   "source": [
    "model4.fit(X_train, y_train);"
   ]
  },
  {
   "cell_type": "code",
   "execution_count": 39,
   "metadata": {
    "collapsed": true
   },
   "outputs": [],
   "source": [
    "score4 = model4.score(X_test, y_test)"
   ]
  },
  {
   "cell_type": "code",
   "execution_count": 40,
   "metadata": {},
   "outputs": [
    {
     "data": {
      "text/plain": [
       "0.84567901234567899"
      ]
     },
     "execution_count": 40,
     "metadata": {},
     "output_type": "execute_result"
    }
   ],
   "source": [
    "score4"
   ]
  },
  {
   "cell_type": "code",
   "execution_count": 41,
   "metadata": {
    "collapsed": true
   },
   "outputs": [],
   "source": [
    "pred=model4.predict(X_test)"
   ]
  },
  {
   "cell_type": "code",
   "execution_count": 42,
   "metadata": {},
   "outputs": [
    {
     "name": "stdout",
     "output_type": "stream",
     "text": [
      "     Neg  Pos\n",
      "Neg   22    1\n",
      "Pos   24  115\n"
     ]
    }
   ],
   "source": [
    "cm_df = pd.DataFrame(confusion_matrix(np.asarray(y_test), pred).T, index=model4.classes_,\n",
    "                     columns=model4.classes_)\n",
    "print(cm_df)"
   ]
  },
  {
   "cell_type": "code",
   "execution_count": 43,
   "metadata": {},
   "outputs": [
    {
     "name": "stdout",
     "output_type": "stream",
     "text": [
      "The average accuracy computed with Cross Validation is 84.38%\n"
     ]
    }
   ],
   "source": [
    "cross_val_score(model4, df.Descrizione_Risolutore, df.SA, scoring='accuracy', cv = 10)\n",
    "average_accuracy = np.mean(scores) * 100\n",
    "print(\"The average accuracy computed with Cross Validation is {0:.2f}%\".format(average_accuracy)) #Cross validation doesn't work well on Random Forest"
   ]
  },
  {
   "cell_type": "markdown",
   "metadata": {},
   "source": [
    "Trying with Multinomial Bayes Classifier:"
   ]
  },
  {
   "cell_type": "code",
   "execution_count": 44,
   "metadata": {
    "collapsed": true
   },
   "outputs": [],
   "source": [
    "model5 = Pipeline([\n",
    "    (\"vectorizer\", TfidfVectorizer(min_df=3, ngram_range=(1, 2),tokenizer=tokenize_with_stemming,max_features=165)),\n",
    "    (\"classifier\", MultinomialNB())\n",
    "])"
   ]
  },
  {
   "cell_type": "code",
   "execution_count": 45,
   "metadata": {
    "collapsed": true
   },
   "outputs": [],
   "source": [
    "model5.fit(X_train, y_train);"
   ]
  },
  {
   "cell_type": "code",
   "execution_count": 46,
   "metadata": {
    "collapsed": true
   },
   "outputs": [],
   "source": [
    "score5 = model5.score(X_test, y_test)"
   ]
  },
  {
   "cell_type": "code",
   "execution_count": 47,
   "metadata": {},
   "outputs": [
    {
     "data": {
      "text/plain": [
       "0.80246913580246915"
      ]
     },
     "execution_count": 47,
     "metadata": {},
     "output_type": "execute_result"
    }
   ],
   "source": [
    "score5"
   ]
  },
  {
   "cell_type": "code",
   "execution_count": 48,
   "metadata": {
    "collapsed": true
   },
   "outputs": [],
   "source": [
    "pred=model5.predict(X_test)"
   ]
  },
  {
   "cell_type": "code",
   "execution_count": 49,
   "metadata": {},
   "outputs": [
    {
     "name": "stdout",
     "output_type": "stream",
     "text": [
      "     Neg  Pos\n",
      "Neg   14    0\n",
      "Pos   32  116\n"
     ]
    }
   ],
   "source": [
    "cm_df = pd.DataFrame(confusion_matrix(np.asarray(y_test), pred).T, index=model5.classes_,\n",
    "                     columns=model5.classes_)\n",
    "print(cm_df)"
   ]
  },
  {
   "cell_type": "markdown",
   "metadata": {},
   "source": [
    "Trying with XGBoost:"
   ]
  },
  {
   "cell_type": "code",
   "execution_count": 50,
   "metadata": {
    "collapsed": true
   },
   "outputs": [],
   "source": [
    "model6 = Pipeline([\n",
    "    (\"vectorizer\", TfidfVectorizer(min_df=3, ngram_range=(1, 2),tokenizer=tokenize_with_stemming,max_features=165)),\n",
    "    (\"classifier\", xgb.XGBClassifier())\n",
    "])"
   ]
  },
  {
   "cell_type": "code",
   "execution_count": 51,
   "metadata": {
    "collapsed": true
   },
   "outputs": [],
   "source": [
    "model6.fit(X_train, y_train);"
   ]
  },
  {
   "cell_type": "code",
   "execution_count": 52,
   "metadata": {
    "collapsed": true
   },
   "outputs": [],
   "source": [
    "score6 = model6.score(X_test, y_test)"
   ]
  },
  {
   "cell_type": "code",
   "execution_count": 53,
   "metadata": {},
   "outputs": [
    {
     "data": {
      "text/plain": [
       "0.81481481481481477"
      ]
     },
     "execution_count": 53,
     "metadata": {},
     "output_type": "execute_result"
    }
   ],
   "source": [
    "score6"
   ]
  },
  {
   "cell_type": "code",
   "execution_count": 54,
   "metadata": {
    "collapsed": true
   },
   "outputs": [],
   "source": [
    "pred=model6.predict(X_test)"
   ]
  },
  {
   "cell_type": "code",
   "execution_count": 55,
   "metadata": {},
   "outputs": [
    {
     "name": "stdout",
     "output_type": "stream",
     "text": [
      "     Neg  Pos\n",
      "Neg   18    2\n",
      "Pos   28  114\n"
     ]
    }
   ],
   "source": [
    "cm_df = pd.DataFrame(confusion_matrix(np.asarray(y_test), pred).T, index=model6.classes_,\n",
    "                     columns=model6.classes_)\n",
    "print(cm_df)"
   ]
  },
  {
   "cell_type": "code",
   "execution_count": null,
   "metadata": {
    "collapsed": true
   },
   "outputs": [],
   "source": [
    "A summary of our models:"
   ]
  },
  {
   "cell_type": "code",
   "execution_count": 56,
   "metadata": {
    "collapsed": true
   },
   "outputs": [],
   "source": [
    "listScore = [score1,score2,score3,score4,score5,score6]"
   ]
  },
  {
   "cell_type": "code",
   "execution_count": 57,
   "metadata": {
    "collapsed": true
   },
   "outputs": [],
   "source": [
    "listModel = [\"TfIdf + Logi\",\"TdIdf(tokens/stemming) + Logi\",\"TdIdf(tokens/stemming/ngrams/maxfeatures) + Logi\",\"TdIdf(tokens/stemming/ngrams/maxfeatures) + RandomForest\",\"TdIdf(tokens/stemming/ngrams/maxfeatures) + MultinomialBC\",\"TdIdf(tokens/stemming/ngrams/maxfeatures) + XGBoost\"]"
   ]
  },
  {
   "cell_type": "code",
   "execution_count": 60,
   "metadata": {
    "scrolled": true
   },
   "outputs": [
    {
     "data": {
      "text/html": [
       "<style  type=\"text/css\" >\n",
       "    #T_87f84d1e_8669_11e8_a7cf_9cb6d0d59790row0_col0 {\n",
       "            width:  345px;\n",
       "        }    #T_87f84d1e_8669_11e8_a7cf_9cb6d0d59790row1_col0 {\n",
       "            width:  345px;\n",
       "        }    #T_87f84d1e_8669_11e8_a7cf_9cb6d0d59790row2_col0 {\n",
       "            width:  345px;\n",
       "        }    #T_87f84d1e_8669_11e8_a7cf_9cb6d0d59790row3_col0 {\n",
       "            width:  345px;\n",
       "        }    #T_87f84d1e_8669_11e8_a7cf_9cb6d0d59790row4_col0 {\n",
       "            width:  345px;\n",
       "        }    #T_87f84d1e_8669_11e8_a7cf_9cb6d0d59790row5_col0 {\n",
       "            width:  345px;\n",
       "        }</style>  \n",
       "<table id=\"T_87f84d1e_8669_11e8_a7cf_9cb6d0d59790\" > \n",
       "<thead>    <tr> \n",
       "        <th class=\"blank level0\" ></th> \n",
       "        <th class=\"col_heading level0 col0\" >Model</th> \n",
       "        <th class=\"col_heading level0 col1\" >Accuracy</th> \n",
       "    </tr></thead> \n",
       "<tbody>    <tr> \n",
       "        <th id=\"T_87f84d1e_8669_11e8_a7cf_9cb6d0d59790level0_row0\" class=\"row_heading level0 row0\" >0</th> \n",
       "        <td id=\"T_87f84d1e_8669_11e8_a7cf_9cb6d0d59790row0_col0\" class=\"data row0 col0\" >TfIdf + Logi</td> \n",
       "        <td id=\"T_87f84d1e_8669_11e8_a7cf_9cb6d0d59790row0_col1\" class=\"data row0 col1\" >0.753086</td> \n",
       "    </tr>    <tr> \n",
       "        <th id=\"T_87f84d1e_8669_11e8_a7cf_9cb6d0d59790level0_row1\" class=\"row_heading level0 row1\" >1</th> \n",
       "        <td id=\"T_87f84d1e_8669_11e8_a7cf_9cb6d0d59790row1_col0\" class=\"data row1 col0\" >TdIdf(tokens/stemming) + Logi</td> \n",
       "        <td id=\"T_87f84d1e_8669_11e8_a7cf_9cb6d0d59790row1_col1\" class=\"data row1 col1\" >0.771605</td> \n",
       "    </tr>    <tr> \n",
       "        <th id=\"T_87f84d1e_8669_11e8_a7cf_9cb6d0d59790level0_row2\" class=\"row_heading level0 row2\" >2</th> \n",
       "        <td id=\"T_87f84d1e_8669_11e8_a7cf_9cb6d0d59790row2_col0\" class=\"data row2 col0\" >TdIdf(tokens/stemming/ngrams/maxfeatures) + Logi</td> \n",
       "        <td id=\"T_87f84d1e_8669_11e8_a7cf_9cb6d0d59790row2_col1\" class=\"data row2 col1\" >0.802469</td> \n",
       "    </tr>    <tr> \n",
       "        <th id=\"T_87f84d1e_8669_11e8_a7cf_9cb6d0d59790level0_row3\" class=\"row_heading level0 row3\" >3</th> \n",
       "        <td id=\"T_87f84d1e_8669_11e8_a7cf_9cb6d0d59790row3_col0\" class=\"data row3 col0\" >TdIdf(tokens/stemming/ngrams/maxfeatures) + RandomForest</td> \n",
       "        <td id=\"T_87f84d1e_8669_11e8_a7cf_9cb6d0d59790row3_col1\" class=\"data row3 col1\" >0.845679</td> \n",
       "    </tr>    <tr> \n",
       "        <th id=\"T_87f84d1e_8669_11e8_a7cf_9cb6d0d59790level0_row4\" class=\"row_heading level0 row4\" >4</th> \n",
       "        <td id=\"T_87f84d1e_8669_11e8_a7cf_9cb6d0d59790row4_col0\" class=\"data row4 col0\" >TdIdf(tokens/stemming/ngrams/maxfeatures) + MultinomialBC</td> \n",
       "        <td id=\"T_87f84d1e_8669_11e8_a7cf_9cb6d0d59790row4_col1\" class=\"data row4 col1\" >0.802469</td> \n",
       "    </tr>    <tr> \n",
       "        <th id=\"T_87f84d1e_8669_11e8_a7cf_9cb6d0d59790level0_row5\" class=\"row_heading level0 row5\" >5</th> \n",
       "        <td id=\"T_87f84d1e_8669_11e8_a7cf_9cb6d0d59790row5_col0\" class=\"data row5 col0\" >TdIdf(tokens/stemming/ngrams/maxfeatures) + XGBoost</td> \n",
       "        <td id=\"T_87f84d1e_8669_11e8_a7cf_9cb6d0d59790row5_col1\" class=\"data row5 col1\" >0.814815</td> \n",
       "    </tr></tbody> \n",
       "</table> "
      ],
      "text/plain": [
       "<pandas.io.formats.style.Styler at 0x174731b3f98>"
      ]
     },
     "execution_count": 60,
     "metadata": {},
     "output_type": "execute_result"
    }
   ],
   "source": [
    "SummaryAcc = pd.DataFrame({\"Model\": listModel, \"Accuracy\": listScore})\n",
    "SummaryAcc = SummaryAcc.iloc[:, ::-1]\n",
    "SummaryAcc.style.set_properties(subset=['Model'], **{'width': '345px'})"
   ]
  },
  {
   "cell_type": "markdown",
   "metadata": {},
   "source": [
    "We estimate the labels on the whole dataset with the best model (TdIdf(tokens/stemming/ngrams/maxfeatures) + RandomForest) !!!"
   ]
  },
  {
   "cell_type": "code",
   "execution_count": 291,
   "metadata": {
    "collapsed": true
   },
   "outputs": [],
   "source": [
    "model = Pipeline([\n",
    "    (\"vectorizer\", TfidfVectorizer(min_df=3, ngram_range=(1, 2),tokenizer=tokenize_with_stemming,max_features=165)),\n",
    "    (\"classifier\", RandomForestClassifier(n_estimators=500))\n",
    "])"
   ]
  },
  {
   "cell_type": "code",
   "execution_count": 290,
   "metadata": {
    "collapsed": true
   },
   "outputs": [],
   "source": [
    "dfAll = pd.read_excel(r\"C:\\Users\\nabu-pc\\Desktop\\Data Science\\Project field\\ProjFieldBase.xlsx\")"
   ]
  },
  {
   "cell_type": "code",
   "execution_count": 292,
   "metadata": {
    "collapsed": true
   },
   "outputs": [],
   "source": [
    "model.fit(df.Descrizione_Risolutore, df.SA); #I train the model on the all dataset with labels"
   ]
  },
  {
   "cell_type": "code",
   "execution_count": 279,
   "metadata": {
    "collapsed": true
   },
   "outputs": [],
   "source": [
    "dfAll['cleancall']=dfAll['Descrizione_Chiamata'].apply(delete)  #We delete symbol/numbers from \"Descrizione chiamata\"\n",
    "dfAll['newcall']=dfAll['cleancall'].apply(pulizia) # We delete some useless words (mainly names)"
   ]
  },
  {
   "cell_type": "code",
   "execution_count": 315,
   "metadata": {
    "collapsed": true
   },
   "outputs": [],
   "source": [
    "dfAll['ID2']=dfAll['ID'].apply(clean)"
   ]
  },
  {
   "cell_type": "code",
   "execution_count": 316,
   "metadata": {},
   "outputs": [
    {
     "data": {
      "text/html": [
       "<div>\n",
       "<style scoped>\n",
       "    .dataframe tbody tr th:only-of-type {\n",
       "        vertical-align: middle;\n",
       "    }\n",
       "\n",
       "    .dataframe tbody tr th {\n",
       "        vertical-align: top;\n",
       "    }\n",
       "\n",
       "    .dataframe thead th {\n",
       "        text-align: right;\n",
       "    }\n",
       "</style>\n",
       "<table border=\"1\" class=\"dataframe\">\n",
       "  <thead>\n",
       "    <tr style=\"text-align: right;\">\n",
       "      <th></th>\n",
       "      <th>durata_risoluzione</th>\n",
       "      <th>Data_Arrivo_chiamata</th>\n",
       "      <th>Descrizione_Chiamata</th>\n",
       "      <th>Classe</th>\n",
       "      <th>Natura</th>\n",
       "      <th>Origine_Proglema</th>\n",
       "      <th>Descrizione_Risolutore</th>\n",
       "      <th>Data_Chiusura_Chiamata</th>\n",
       "      <th>Data_Gestione_Chiamata</th>\n",
       "      <th>CLIENTE</th>\n",
       "      <th>UTENTE</th>\n",
       "      <th>ID</th>\n",
       "      <th>DURATA SEGN.</th>\n",
       "      <th>SA</th>\n",
       "      <th>Topic</th>\n",
       "      <th>ID2</th>\n",
       "    </tr>\n",
       "  </thead>\n",
       "  <tbody>\n",
       "    <tr>\n",
       "      <th>0</th>\n",
       "      <td>1</td>\n",
       "      <td>2016-01-14 10:39:22</td>\n",
       "      <td>Per HelpDesk / Richiamare Carmela</td>\n",
       "      <td>SW</td>\n",
       "      <td>sw</td>\n",
       "      <td>Cliente</td>\n",
       "      <td>Supporto per ripristinare protocolli autofatture</td>\n",
       "      <td>2016-01-14 10:40:49</td>\n",
       "      <td>giovedì 14 gennaio 2016</td>\n",
       "      <td>C1836</td>\n",
       "      <td>U34</td>\n",
       "      <td>ID64898</td>\n",
       "      <td>0</td>\n",
       "      <td>Pos</td>\n",
       "      <td>altro</td>\n",
       "      <td>64898</td>\n",
       "    </tr>\n",
       "    <tr>\n",
       "      <th>1</th>\n",
       "      <td>1</td>\n",
       "      <td>2016-01-18 12:56:18</td>\n",
       "      <td>Per HelpDesk / Richiamare Maila x Ammortamenti</td>\n",
       "      <td>SW</td>\n",
       "      <td>sw</td>\n",
       "      <td>Cliente</td>\n",
       "      <td>Supporto per gestire beni inferiori a 516,00 euro</td>\n",
       "      <td>2016-02-22 15:26:32</td>\n",
       "      <td>lunedì 18 gennaio 2016</td>\n",
       "      <td>C233</td>\n",
       "      <td>U34</td>\n",
       "      <td>ID64926</td>\n",
       "      <td>35</td>\n",
       "      <td>Pos</td>\n",
       "      <td>contabilitÃ</td>\n",
       "      <td>64926</td>\n",
       "    </tr>\n",
       "    <tr>\n",
       "      <th>2</th>\n",
       "      <td>1</td>\n",
       "      <td>2016-01-21 10:03:48</td>\n",
       "      <td>Per HelpDesk / Richiamare Francesca per fattur...</td>\n",
       "      <td>SW</td>\n",
       "      <td>sw</td>\n",
       "      <td>Cliente</td>\n",
       "      <td>Sbloccato fatturazione Killato provesso</td>\n",
       "      <td>2016-01-21 10:04:49</td>\n",
       "      <td>giovedì 21 gennaio 2016</td>\n",
       "      <td>C1887</td>\n",
       "      <td>U34</td>\n",
       "      <td>ID64962</td>\n",
       "      <td>0</td>\n",
       "      <td>Pos</td>\n",
       "      <td>fattura</td>\n",
       "      <td>64962</td>\n",
       "    </tr>\n",
       "    <tr>\n",
       "      <th>3</th>\n",
       "      <td>1</td>\n",
       "      <td>2016-01-20 17:47:46</td>\n",
       "      <td>Per HelpDesk / Richiamare Dtb anariten (come f...</td>\n",
       "      <td>SW</td>\n",
       "      <td>sw</td>\n",
       "      <td>Cliente</td>\n",
       "      <td>Non si può fare.</td>\n",
       "      <td>2016-01-21 18:03:57</td>\n",
       "      <td>giovedì 21 gennaio 2016</td>\n",
       "      <td>C2182</td>\n",
       "      <td>U34</td>\n",
       "      <td>ID64958</td>\n",
       "      <td>1</td>\n",
       "      <td>Pos</td>\n",
       "      <td>altro</td>\n",
       "      <td>64958</td>\n",
       "    </tr>\n",
       "    <tr>\n",
       "      <th>5</th>\n",
       "      <td>1</td>\n",
       "      <td>2016-01-28 10:00:41</td>\n",
       "      <td>Per HelpDesk / Richiamare Correggere movimento</td>\n",
       "      <td>SW</td>\n",
       "      <td>sw</td>\n",
       "      <td>Cliente</td>\n",
       "      <td>Coretto movimento contabile anno 2015</td>\n",
       "      <td>2016-01-28 10:28:39</td>\n",
       "      <td>giovedì 28 gennaio 2016</td>\n",
       "      <td>C2182</td>\n",
       "      <td>U34</td>\n",
       "      <td>ID64997</td>\n",
       "      <td>0</td>\n",
       "      <td>Pos</td>\n",
       "      <td>altro</td>\n",
       "      <td>64997</td>\n",
       "    </tr>\n",
       "    <tr>\n",
       "      <th>6</th>\n",
       "      <td>1</td>\n",
       "      <td>2016-02-04 15:03:52</td>\n",
       "      <td>Per HelpDesk / Richiamare Alessandra</td>\n",
       "      <td>SW</td>\n",
       "      <td>sw</td>\n",
       "      <td>Cliente</td>\n",
       "      <td>Supporto per mettere a menu Stipendi.c</td>\n",
       "      <td>2016-02-04 15:28:05</td>\n",
       "      <td>giovedì 4 febbraio 2016</td>\n",
       "      <td>C1711</td>\n",
       "      <td>U34</td>\n",
       "      <td>ID65064</td>\n",
       "      <td>0</td>\n",
       "      <td>Pos</td>\n",
       "      <td>altro</td>\n",
       "      <td>65064</td>\n",
       "    </tr>\n",
       "    <tr>\n",
       "      <th>7</th>\n",
       "      <td>1</td>\n",
       "      <td>2016-02-04 15:23:15</td>\n",
       "      <td>Per HelpDesk / Richiamare Francesca x iva veng...</td>\n",
       "      <td>SW</td>\n",
       "      <td>sw</td>\n",
       "      <td>Cliente</td>\n",
       "      <td>Spiegato a Barbara come deve operare</td>\n",
       "      <td>2016-02-08 16:00:54</td>\n",
       "      <td>lunedì 8 febbraio 2016</td>\n",
       "      <td>C1582</td>\n",
       "      <td>U34</td>\n",
       "      <td>ID65066</td>\n",
       "      <td>4</td>\n",
       "      <td>Pos</td>\n",
       "      <td>iva</td>\n",
       "      <td>65066</td>\n",
       "    </tr>\n",
       "    <tr>\n",
       "      <th>8</th>\n",
       "      <td>1</td>\n",
       "      <td>2016-02-08 16:31:09</td>\n",
       "      <td>Per HelpDesk / Richiamare Fabio per pulizia ar...</td>\n",
       "      <td>SW</td>\n",
       "      <td>sw</td>\n",
       "      <td>Cliente</td>\n",
       "      <td>Fabio non c'è</td>\n",
       "      <td>2016-02-18 11:44:11</td>\n",
       "      <td>lunedì 8 febbraio 2016</td>\n",
       "      <td>C2030</td>\n",
       "      <td>U34</td>\n",
       "      <td>ID65090</td>\n",
       "      <td>10</td>\n",
       "      <td>Neg</td>\n",
       "      <td>inventario</td>\n",
       "      <td>65090</td>\n",
       "    </tr>\n",
       "    <tr>\n",
       "      <th>9</th>\n",
       "      <td>1</td>\n",
       "      <td>2016-02-22 08:40:25</td>\n",
       "      <td>Per HelpDesk / Richiamare  x Liquidazione iva</td>\n",
       "      <td>SW</td>\n",
       "      <td>sw</td>\n",
       "      <td>Cliente</td>\n",
       "      <td>Faccio intervento Domani</td>\n",
       "      <td>2016-02-22 15:23:27</td>\n",
       "      <td>lunedì 22 febbraio 2016</td>\n",
       "      <td>C2182</td>\n",
       "      <td>U34</td>\n",
       "      <td>ID65199</td>\n",
       "      <td>0</td>\n",
       "      <td>Neg</td>\n",
       "      <td>iva</td>\n",
       "      <td>65199</td>\n",
       "    </tr>\n",
       "    <tr>\n",
       "      <th>10</th>\n",
       "      <td>1</td>\n",
       "      <td>2016-02-29 16:09:49</td>\n",
       "      <td>Per HelpDesk / Richiamare X Articoli Obsoleti</td>\n",
       "      <td>SW</td>\n",
       "      <td>sw</td>\n",
       "      <td>Cliente</td>\n",
       "      <td>Fatto preventivo</td>\n",
       "      <td>2016-03-03 12:55:28</td>\n",
       "      <td>giovedì 3 marzo 2016</td>\n",
       "      <td>C510</td>\n",
       "      <td>U34</td>\n",
       "      <td>ID65275</td>\n",
       "      <td>3</td>\n",
       "      <td>Pos</td>\n",
       "      <td>inventario</td>\n",
       "      <td>65275</td>\n",
       "    </tr>\n",
       "    <tr>\n",
       "      <th>11</th>\n",
       "      <td>1</td>\n",
       "      <td>2016-03-03 12:02:13</td>\n",
       "      <td>Per HelpDesk / Richiamare : Alessandra per Doc...</td>\n",
       "      <td>SW</td>\n",
       "      <td>sw</td>\n",
       "      <td>Cliente</td>\n",
       "      <td>Domani faccio intervento</td>\n",
       "      <td>2016-03-03 17:37:21</td>\n",
       "      <td>giovedì 3 marzo 2016</td>\n",
       "      <td>C1711</td>\n",
       "      <td>U34</td>\n",
       "      <td>ID65307</td>\n",
       "      <td>0</td>\n",
       "      <td>Neg</td>\n",
       "      <td>altro</td>\n",
       "      <td>65307</td>\n",
       "    </tr>\n",
       "    <tr>\n",
       "      <th>12</th>\n",
       "      <td>1</td>\n",
       "      <td>2016-03-10 08:49:49</td>\n",
       "      <td>Per HelpDesk / Richiamare Stura per Certificaz...</td>\n",
       "      <td>SW</td>\n",
       "      <td>sw</td>\n",
       "      <td>Cliente</td>\n",
       "      <td>Supporto a Claudio per stampa r3egistri e liqu...</td>\n",
       "      <td>2016-03-10 14:56:17</td>\n",
       "      <td>giovedì 10 marzo 2016</td>\n",
       "      <td>C1711</td>\n",
       "      <td>U34</td>\n",
       "      <td>ID65360</td>\n",
       "      <td>0</td>\n",
       "      <td>Pos</td>\n",
       "      <td>altro</td>\n",
       "      <td>65360</td>\n",
       "    </tr>\n",
       "    <tr>\n",
       "      <th>13</th>\n",
       "      <td>1</td>\n",
       "      <td>2016-03-10 16:18:42</td>\n",
       "      <td>Per HelpDesk / Richiamare liquidazione iva</td>\n",
       "      <td>SW</td>\n",
       "      <td>sw</td>\n",
       "      <td>Cliente</td>\n",
       "      <td>supporto per stampa liquidazione iva</td>\n",
       "      <td>2016-03-10 16:24:04</td>\n",
       "      <td>giovedì 10 marzo 2016</td>\n",
       "      <td>C1771</td>\n",
       "      <td>U34</td>\n",
       "      <td>ID65378</td>\n",
       "      <td>0</td>\n",
       "      <td>Pos</td>\n",
       "      <td>iva</td>\n",
       "      <td>65378</td>\n",
       "    </tr>\n",
       "    <tr>\n",
       "      <th>14</th>\n",
       "      <td>1</td>\n",
       "      <td>2016-03-17 11:32:16</td>\n",
       "      <td>Per HelpDesk / Richiamare Letizia per portafoglio</td>\n",
       "      <td>SW</td>\n",
       "      <td>sw</td>\n",
       "      <td>Cliente</td>\n",
       "      <td>Bisogna provare a creare cod.Pag spazio</td>\n",
       "      <td>2016-04-13 11:26:07</td>\n",
       "      <td>giovedì 17 marzo 2016</td>\n",
       "      <td>C1286</td>\n",
       "      <td>U34</td>\n",
       "      <td>ID65455</td>\n",
       "      <td>27</td>\n",
       "      <td>Pos</td>\n",
       "      <td>altro</td>\n",
       "      <td>65455</td>\n",
       "    </tr>\n",
       "    <tr>\n",
       "      <th>17</th>\n",
       "      <td>1</td>\n",
       "      <td>2016-03-17 08:32:15</td>\n",
       "      <td>Per HelpDesk / Richiamare Modificare modulo CL...</td>\n",
       "      <td>SW</td>\n",
       "      <td>sw</td>\n",
       "      <td>Cliente</td>\n",
       "      <td>Fatto offerta</td>\n",
       "      <td>2016-03-22 12:49:08</td>\n",
       "      <td>martedì 22 marzo 2016</td>\n",
       "      <td>C93</td>\n",
       "      <td>U34</td>\n",
       "      <td>ID65444</td>\n",
       "      <td>5</td>\n",
       "      <td>Pos</td>\n",
       "      <td>altro</td>\n",
       "      <td>65444</td>\n",
       "    </tr>\n",
       "    <tr>\n",
       "      <th>18</th>\n",
       "      <td>1</td>\n",
       "      <td>2016-02-25 15:06:35</td>\n",
       "      <td>Per HelpDesk / Richiamare per reverse charge</td>\n",
       "      <td>SW</td>\n",
       "      <td>sw</td>\n",
       "      <td>Cliente</td>\n",
       "      <td>Il Gab deve correggere il programma</td>\n",
       "      <td>2016-03-31 11:44:23</td>\n",
       "      <td>martedì 22 marzo 2016</td>\n",
       "      <td>C1796</td>\n",
       "      <td>U34</td>\n",
       "      <td>ID65246</td>\n",
       "      <td>35</td>\n",
       "      <td>Pos</td>\n",
       "      <td>altro</td>\n",
       "      <td>65246</td>\n",
       "    </tr>\n",
       "    <tr>\n",
       "      <th>20</th>\n",
       "      <td>1</td>\n",
       "      <td>2016-03-31 14:04:14</td>\n",
       "      <td>Per HelpDesk / Richiamare Spesometro</td>\n",
       "      <td>SW</td>\n",
       "      <td>sw</td>\n",
       "      <td>Cliente</td>\n",
       "      <td>Ormai lo hanno fatto a mano</td>\n",
       "      <td>2016-04-07 12:50:16</td>\n",
       "      <td>giovedì 7 aprile 2016</td>\n",
       "      <td>C1906</td>\n",
       "      <td>U34</td>\n",
       "      <td>ID65583</td>\n",
       "      <td>7</td>\n",
       "      <td>Pos</td>\n",
       "      <td>modulistica</td>\n",
       "      <td>65583</td>\n",
       "    </tr>\n",
       "    <tr>\n",
       "      <th>21</th>\n",
       "      <td>1</td>\n",
       "      <td>2016-04-07 09:01:03</td>\n",
       "      <td>Per HelpDesk / Richiamare x stampa anagrafica</td>\n",
       "      <td>SW</td>\n",
       "      <td>sw</td>\n",
       "      <td>Cliente</td>\n",
       "      <td>Supporto per stampa anagrafica clienti</td>\n",
       "      <td>2016-04-07 15:20:15</td>\n",
       "      <td>giovedì 7 aprile 2016</td>\n",
       "      <td>C1215</td>\n",
       "      <td>U34</td>\n",
       "      <td>ID65668</td>\n",
       "      <td>0</td>\n",
       "      <td>Pos</td>\n",
       "      <td>altro</td>\n",
       "      <td>65668</td>\n",
       "    </tr>\n",
       "    <tr>\n",
       "      <th>22</th>\n",
       "      <td>1</td>\n",
       "      <td>2016-04-07 15:25:46</td>\n",
       "      <td>Per HelpDesk / Richiamare Sbollare gennaio e f...</td>\n",
       "      <td>SW</td>\n",
       "      <td>sw</td>\n",
       "      <td>Cliente</td>\n",
       "      <td>Sbollato gennaio e febbraio libro giornale</td>\n",
       "      <td>2016-04-07 15:31:41</td>\n",
       "      <td>giovedì 7 aprile 2016</td>\n",
       "      <td>C233</td>\n",
       "      <td>U34</td>\n",
       "      <td>ID65692</td>\n",
       "      <td>0</td>\n",
       "      <td>Pos</td>\n",
       "      <td>altro</td>\n",
       "      <td>65692</td>\n",
       "    </tr>\n",
       "    <tr>\n",
       "      <th>23</th>\n",
       "      <td>1</td>\n",
       "      <td>2016-04-07 18:01:58</td>\n",
       "      <td>Per HelpDesk / Richiamare Antonio</td>\n",
       "      <td>SW</td>\n",
       "      <td>sw</td>\n",
       "      <td>Cliente</td>\n",
       "      <td>Vuole una stampa clienti</td>\n",
       "      <td>2016-04-13 09:05:07</td>\n",
       "      <td>giovedì 7 aprile 2016</td>\n",
       "      <td>C2010</td>\n",
       "      <td>U34</td>\n",
       "      <td>ID65703</td>\n",
       "      <td>6</td>\n",
       "      <td>Pos</td>\n",
       "      <td>altro</td>\n",
       "      <td>65703</td>\n",
       "    </tr>\n",
       "    <tr>\n",
       "      <th>24</th>\n",
       "      <td>1</td>\n",
       "      <td>2016-04-07 18:01:58</td>\n",
       "      <td>Per HelpDesk / Richiamare Antonio</td>\n",
       "      <td>SW</td>\n",
       "      <td>sw</td>\n",
       "      <td>Cliente</td>\n",
       "      <td>Fatto offerta ore 12/16</td>\n",
       "      <td>2016-04-13 09:05:07</td>\n",
       "      <td>mercoledì 13 aprile 2016</td>\n",
       "      <td>C2010</td>\n",
       "      <td>U34</td>\n",
       "      <td>ID65703</td>\n",
       "      <td>6</td>\n",
       "      <td>Pos</td>\n",
       "      <td>altro</td>\n",
       "      <td>65703</td>\n",
       "    </tr>\n",
       "    <tr>\n",
       "      <th>25</th>\n",
       "      <td>1</td>\n",
       "      <td>2016-04-19 08:55:40</td>\n",
       "      <td>Per HelpDesk / Richiamare : Ombretta per numer...</td>\n",
       "      <td>SW</td>\n",
       "      <td>sw</td>\n",
       "      <td>Cliente</td>\n",
       "      <td>Chiamata doppia</td>\n",
       "      <td>2016-04-19 08:57:10</td>\n",
       "      <td>martedì 19 aprile 2016</td>\n",
       "      <td>C1361</td>\n",
       "      <td>U34</td>\n",
       "      <td>ID65807</td>\n",
       "      <td>0</td>\n",
       "      <td>Pos</td>\n",
       "      <td>altro</td>\n",
       "      <td>65807</td>\n",
       "    </tr>\n",
       "    <tr>\n",
       "      <th>26</th>\n",
       "      <td>1</td>\n",
       "      <td>2016-04-19 16:30:10</td>\n",
       "      <td>Per HelpDesk / Richiamare Ammortamenti</td>\n",
       "      <td>SW</td>\n",
       "      <td>sw</td>\n",
       "      <td>Cliente</td>\n",
       "      <td>Sbagliato cliente era GFL Kit...</td>\n",
       "      <td>2016-04-19 16:31:25</td>\n",
       "      <td>martedì 19 aprile 2016</td>\n",
       "      <td>C1737</td>\n",
       "      <td>U34</td>\n",
       "      <td>ID65819</td>\n",
       "      <td>0</td>\n",
       "      <td>Pos</td>\n",
       "      <td>contabilitÃ</td>\n",
       "      <td>65819</td>\n",
       "    </tr>\n",
       "    <tr>\n",
       "      <th>27</th>\n",
       "      <td>1</td>\n",
       "      <td>2016-05-05 08:53:58</td>\n",
       "      <td>Per HelpDesk / Richiamare Francesco per giacenze</td>\n",
       "      <td>SW</td>\n",
       "      <td>sw</td>\n",
       "      <td>Cliente</td>\n",
       "      <td>Non mi ha richiamato, significa che tutto va bene</td>\n",
       "      <td>2016-05-05 17:16:08</td>\n",
       "      <td>giovedì 5 maggio 2016</td>\n",
       "      <td>C1215</td>\n",
       "      <td>U34</td>\n",
       "      <td>ID65966</td>\n",
       "      <td>0</td>\n",
       "      <td>Neg</td>\n",
       "      <td>inventario</td>\n",
       "      <td>65966</td>\n",
       "    </tr>\n",
       "    <tr>\n",
       "      <th>28</th>\n",
       "      <td>1</td>\n",
       "      <td>2016-05-06 14:59:42</td>\n",
       "      <td>Per HelpDesk / Richiamare Elena per provvigioni</td>\n",
       "      <td>SW</td>\n",
       "      <td>sw</td>\n",
       "      <td>Cliente</td>\n",
       "      <td>Chiamata doppia</td>\n",
       "      <td>2016-05-06 15:01:00</td>\n",
       "      <td>venerdì 6 maggio 2016</td>\n",
       "      <td>C1796</td>\n",
       "      <td>U34</td>\n",
       "      <td>ID65984</td>\n",
       "      <td>0</td>\n",
       "      <td>Pos</td>\n",
       "      <td>contabilitÃ</td>\n",
       "      <td>65984</td>\n",
       "    </tr>\n",
       "    <tr>\n",
       "      <th>29</th>\n",
       "      <td>1</td>\n",
       "      <td>2016-05-12 14:43:50</td>\n",
       "      <td>Per HelpDesk / Richiamare avrei bisogno di cor...</td>\n",
       "      <td>SW</td>\n",
       "      <td>sw</td>\n",
       "      <td>Cliente</td>\n",
       "      <td>FAtto intervento 15/05/16</td>\n",
       "      <td>2016-05-19 08:44:24</td>\n",
       "      <td>giovedì 19 maggio 2016</td>\n",
       "      <td>C1711</td>\n",
       "      <td>U34</td>\n",
       "      <td>ID66028</td>\n",
       "      <td>7</td>\n",
       "      <td>Pos</td>\n",
       "      <td>altro</td>\n",
       "      <td>66028</td>\n",
       "    </tr>\n",
       "    <tr>\n",
       "      <th>30</th>\n",
       "      <td>1</td>\n",
       "      <td>2016-05-19 16:36:46</td>\n",
       "      <td>Per HelpDesk / Richiamare : bolla di vendita</td>\n",
       "      <td>SW</td>\n",
       "      <td>sw</td>\n",
       "      <td>Cliente</td>\n",
       "      <td>Aumentato n.caratteri su frm cup ordini</td>\n",
       "      <td>2016-05-23 09:09:02</td>\n",
       "      <td>lunedì 23 maggio 2016</td>\n",
       "      <td>C178</td>\n",
       "      <td>U34</td>\n",
       "      <td>ID66080</td>\n",
       "      <td>4</td>\n",
       "      <td>Pos</td>\n",
       "      <td>fattura</td>\n",
       "      <td>66080</td>\n",
       "    </tr>\n",
       "    <tr>\n",
       "      <th>31</th>\n",
       "      <td>1</td>\n",
       "      <td>2016-06-09 16:23:06</td>\n",
       "      <td>Per HelpDesk / Richiamare Claudia  quando sono...</td>\n",
       "      <td>SW</td>\n",
       "      <td>sw</td>\n",
       "      <td>Cliente</td>\n",
       "      <td>Ad oggi non è possibile cambiare IBAN di risco...</td>\n",
       "      <td>2016-06-10 17:03:07</td>\n",
       "      <td>giovedì 9 giugno 2016</td>\n",
       "      <td>C2182</td>\n",
       "      <td>U34</td>\n",
       "      <td>ID66246</td>\n",
       "      <td>1</td>\n",
       "      <td>Pos</td>\n",
       "      <td>altro</td>\n",
       "      <td>66246</td>\n",
       "    </tr>\n",
       "    <tr>\n",
       "      <th>32</th>\n",
       "      <td>1</td>\n",
       "      <td>2016-06-09 17:22:06</td>\n",
       "      <td>abbiamo riscontrato una anomalia nel calcolo d...</td>\n",
       "      <td>SW</td>\n",
       "      <td>sw</td>\n",
       "      <td>Cliente</td>\n",
       "      <td>Chiamata doppia</td>\n",
       "      <td>2016-06-09 17:39:19</td>\n",
       "      <td>giovedì 9 giugno 2016</td>\n",
       "      <td>C1599</td>\n",
       "      <td>U34</td>\n",
       "      <td>ID66250</td>\n",
       "      <td>0</td>\n",
       "      <td>Pos</td>\n",
       "      <td>altro</td>\n",
       "      <td>66250</td>\n",
       "    </tr>\n",
       "    <tr>\n",
       "      <th>33</th>\n",
       "      <td>1</td>\n",
       "      <td>2016-06-21 08:06:37</td>\n",
       "      <td>Per HelpDesk / Richiamare Causale per bonifici</td>\n",
       "      <td>SW</td>\n",
       "      <td>sw</td>\n",
       "      <td>Cliente</td>\n",
       "      <td>Faccio intervento Domani</td>\n",
       "      <td>2016-06-21 16:26:51</td>\n",
       "      <td>martedì 21 giugno 2016</td>\n",
       "      <td>C1361</td>\n",
       "      <td>U34</td>\n",
       "      <td>ID66309</td>\n",
       "      <td>0</td>\n",
       "      <td>Neg</td>\n",
       "      <td>altro</td>\n",
       "      <td>66309</td>\n",
       "    </tr>\n",
       "    <tr>\n",
       "      <th>34</th>\n",
       "      <td>1</td>\n",
       "      <td>2016-06-30 15:00:00</td>\n",
       "      <td>Per HelpDesk / Richiamare x fatture in valuta</td>\n",
       "      <td>SW</td>\n",
       "      <td>sw</td>\n",
       "      <td>Cliente</td>\n",
       "      <td>Supporto per fare fatture in Valuta</td>\n",
       "      <td>2016-06-30 15:02:00</td>\n",
       "      <td>giovedì 30 giugno 2016</td>\n",
       "      <td>C1837</td>\n",
       "      <td>U34</td>\n",
       "      <td>ID66401</td>\n",
       "      <td>0</td>\n",
       "      <td>Pos</td>\n",
       "      <td>fattura</td>\n",
       "      <td>66401</td>\n",
       "    </tr>\n",
       "    <tr>\n",
       "      <th>35</th>\n",
       "      <td>1</td>\n",
       "      <td>2016-07-21 09:59:36</td>\n",
       "      <td>Per HelpDesk / Richiamare sbollare movimenti c...</td>\n",
       "      <td>SW</td>\n",
       "      <td>sw</td>\n",
       "      <td>Cliente</td>\n",
       "      <td>Non risponde, lasciato messaggio in segreteria</td>\n",
       "      <td>2016-07-26 17:23:33</td>\n",
       "      <td>venerdì 22 luglio 2016</td>\n",
       "      <td>C1633</td>\n",
       "      <td>U34</td>\n",
       "      <td>ID66562</td>\n",
       "      <td>5</td>\n",
       "      <td>Neg</td>\n",
       "      <td>contabilitÃ</td>\n",
       "      <td>66562</td>\n",
       "    </tr>\n",
       "    <tr>\n",
       "      <th>38</th>\n",
       "      <td>1</td>\n",
       "      <td>2016-08-02 15:01:47</td>\n",
       "      <td>X Simonetta richiamare Marianna</td>\n",
       "      <td>SW</td>\n",
       "      <td>sw</td>\n",
       "      <td>Cliente</td>\n",
       "      <td>Sembra tutto apposto, non ha più richiamato ma...</td>\n",
       "      <td>2016-08-03 12:29:57</td>\n",
       "      <td>mercoledì 3 agosto 2016</td>\n",
       "      <td>C2091</td>\n",
       "      <td>U34</td>\n",
       "      <td>ID66668</td>\n",
       "      <td>1</td>\n",
       "      <td>Neg</td>\n",
       "      <td>contabilitÃ</td>\n",
       "      <td>66668</td>\n",
       "    </tr>\n",
       "    <tr>\n",
       "      <th>40</th>\n",
       "      <td>1</td>\n",
       "      <td>2016-08-04 10:15:16</td>\n",
       "      <td>Per HelpDesk / Richiamare il 14.7.2016 ho tras...</td>\n",
       "      <td>SW</td>\n",
       "      <td>sw</td>\n",
       "      <td>Cliente</td>\n",
       "      <td>Ormai avranno sicuramente chiamato il cliente ...</td>\n",
       "      <td>2016-09-01 09:51:49</td>\n",
       "      <td>giovedì 1 settembre 2016</td>\n",
       "      <td>C8</td>\n",
       "      <td>U34</td>\n",
       "      <td>ID66689</td>\n",
       "      <td>28</td>\n",
       "      <td>Pos</td>\n",
       "      <td>fattura</td>\n",
       "      <td>66689</td>\n",
       "    </tr>\n",
       "    <tr>\n",
       "      <th>41</th>\n",
       "      <td>1</td>\n",
       "      <td>2016-09-13 11:54:49</td>\n",
       "      <td>Per HelpDesk / Richiamare Simone per stampante...</td>\n",
       "      <td>SW</td>\n",
       "      <td>sw</td>\n",
       "      <td>Cliente</td>\n",
       "      <td>il cliente è Metal Castello</td>\n",
       "      <td>2016-09-13 12:01:12</td>\n",
       "      <td>martedì 13 settembre 2016</td>\n",
       "      <td>C1024</td>\n",
       "      <td>U34</td>\n",
       "      <td>ID66870</td>\n",
       "      <td>0</td>\n",
       "      <td>Pos</td>\n",
       "      <td>stampa</td>\n",
       "      <td>66870</td>\n",
       "    </tr>\n",
       "    <tr>\n",
       "      <th>42</th>\n",
       "      <td>1</td>\n",
       "      <td>2016-09-23 10:54:58</td>\n",
       "      <td>Per HelpDesk / Richiamare Alessandra X Quello ...</td>\n",
       "      <td>SW</td>\n",
       "      <td>sw</td>\n",
       "      <td>Cliente</td>\n",
       "      <td>Fatto analisi e mandato i tempi a Guglielmo pe...</td>\n",
       "      <td>2016-09-28 10:58:51</td>\n",
       "      <td>mercoledì 28 settembre 2016</td>\n",
       "      <td>C1711</td>\n",
       "      <td>U34</td>\n",
       "      <td>ID66965</td>\n",
       "      <td>5</td>\n",
       "      <td>Pos</td>\n",
       "      <td>fattura</td>\n",
       "      <td>66965</td>\n",
       "    </tr>\n",
       "    <tr>\n",
       "      <th>43</th>\n",
       "      <td>1</td>\n",
       "      <td>2016-09-29 15:33:02</td>\n",
       "      <td>Per HelpDesk / Richiamare</td>\n",
       "      <td>SW</td>\n",
       "      <td>sw</td>\n",
       "      <td>Cliente</td>\n",
       "      <td>Errato cliente era Vi20</td>\n",
       "      <td>2016-09-29 16:10:32</td>\n",
       "      <td>giovedì 29 settembre 2016</td>\n",
       "      <td>C624</td>\n",
       "      <td>U34</td>\n",
       "      <td>ID67024</td>\n",
       "      <td>0</td>\n",
       "      <td>Pos</td>\n",
       "      <td>altro</td>\n",
       "      <td>67024</td>\n",
       "    </tr>\n",
       "    <tr>\n",
       "      <th>44</th>\n",
       "      <td>1</td>\n",
       "      <td>2016-09-29 17:15:50</td>\n",
       "      <td>Per HelpDesk / Richiamare Paolo x Comessa</td>\n",
       "      <td>SW</td>\n",
       "      <td>sw</td>\n",
       "      <td>Cliente</td>\n",
       "      <td>parlato con luigi la gestisce lui</td>\n",
       "      <td>2016-10-05 14:36:27</td>\n",
       "      <td>mercoledì 5 ottobre 2016</td>\n",
       "      <td>C22</td>\n",
       "      <td>U34</td>\n",
       "      <td>ID67028</td>\n",
       "      <td>6</td>\n",
       "      <td>Pos</td>\n",
       "      <td>altro</td>\n",
       "      <td>67028</td>\n",
       "    </tr>\n",
       "    <tr>\n",
       "      <th>45</th>\n",
       "      <td>1</td>\n",
       "      <td>2016-10-20 14:29:30</td>\n",
       "      <td>Per HelpDesk / Richiamare dichiarazione intento</td>\n",
       "      <td>SW</td>\n",
       "      <td>sw</td>\n",
       "      <td>Cliente</td>\n",
       "      <td>Spiegato come fatturare. la dichiarazione inte...</td>\n",
       "      <td>2016-10-20 14:43:47</td>\n",
       "      <td>giovedì 20 ottobre 2016</td>\n",
       "      <td>C2179</td>\n",
       "      <td>U34</td>\n",
       "      <td>ID67198</td>\n",
       "      <td>0</td>\n",
       "      <td>Pos</td>\n",
       "      <td>modulistica</td>\n",
       "      <td>67198</td>\n",
       "    </tr>\n",
       "    <tr>\n",
       "      <th>46</th>\n",
       "      <td>1</td>\n",
       "      <td>2016-11-03 08:25:48</td>\n",
       "      <td>Per HelpDesk / Richiamare Per stampa orizzonta...</td>\n",
       "      <td>SW</td>\n",
       "      <td>sw</td>\n",
       "      <td>Cliente</td>\n",
       "      <td>Sembra che vada tutto bene , la lascio così</td>\n",
       "      <td>2016-11-03 12:48:57</td>\n",
       "      <td>giovedì 3 novembre 2016</td>\n",
       "      <td>C2153</td>\n",
       "      <td>U34</td>\n",
       "      <td>ID67289</td>\n",
       "      <td>0</td>\n",
       "      <td>Pos</td>\n",
       "      <td>stampa</td>\n",
       "      <td>67289</td>\n",
       "    </tr>\n",
       "    <tr>\n",
       "      <th>47</th>\n",
       "      <td>1</td>\n",
       "      <td>2016-11-10 10:19:46</td>\n",
       "      <td>Per HelpDesk / Richiamare Alessandra alcuni or...</td>\n",
       "      <td>SW</td>\n",
       "      <td>sw</td>\n",
       "      <td>Cliente</td>\n",
       "      <td>Sicuramente era un problema di inserimento ord...</td>\n",
       "      <td>2016-11-17 08:44:08</td>\n",
       "      <td>giovedì 17 novembre 2016</td>\n",
       "      <td>C1711</td>\n",
       "      <td>U34</td>\n",
       "      <td>ID67354</td>\n",
       "      <td>7</td>\n",
       "      <td>Pos</td>\n",
       "      <td>altro</td>\n",
       "      <td>67354</td>\n",
       "    </tr>\n",
       "    <tr>\n",
       "      <th>48</th>\n",
       "      <td>1</td>\n",
       "      <td>2016-11-17 15:53:21</td>\n",
       "      <td>Per HelpDesk / Richiamare Milena per distinta SBF</td>\n",
       "      <td>SW</td>\n",
       "      <td>sw</td>\n",
       "      <td>Cliente</td>\n",
       "      <td>Supporto per presentare SBF e inserire codice ...</td>\n",
       "      <td>2016-11-17 16:26:03</td>\n",
       "      <td>giovedì 17 novembre 2016</td>\n",
       "      <td>C1482</td>\n",
       "      <td>U34</td>\n",
       "      <td>ID67394</td>\n",
       "      <td>0</td>\n",
       "      <td>Pos</td>\n",
       "      <td>contabilitÃ</td>\n",
       "      <td>67394</td>\n",
       "    </tr>\n",
       "    <tr>\n",
       "      <th>49</th>\n",
       "      <td>1</td>\n",
       "      <td>2016-11-29 10:34:52</td>\n",
       "      <td>Per HelpDesk / Richiamare Mirella</td>\n",
       "      <td>SW</td>\n",
       "      <td>sw</td>\n",
       "      <td>Cliente</td>\n",
       "      <td>Chiarimenti su anagrafica banache</td>\n",
       "      <td>2016-11-29 11:29:29</td>\n",
       "      <td>martedì 29 novembre 2016</td>\n",
       "      <td>C1660</td>\n",
       "      <td>U34</td>\n",
       "      <td>ID67479</td>\n",
       "      <td>0</td>\n",
       "      <td>Pos</td>\n",
       "      <td>altro</td>\n",
       "      <td>67479</td>\n",
       "    </tr>\n",
       "    <tr>\n",
       "      <th>50</th>\n",
       "      <td>1</td>\n",
       "      <td>2016-12-01 11:40:55</td>\n",
       "      <td>Per HelpDesk / Richiamare Claudio per liquidaz...</td>\n",
       "      <td>SW</td>\n",
       "      <td>sw</td>\n",
       "      <td>Cliente</td>\n",
       "      <td>importo versato su settembre era errato</td>\n",
       "      <td>2016-12-01 11:42:32</td>\n",
       "      <td>giovedì 1 dicembre 2016</td>\n",
       "      <td>C1711</td>\n",
       "      <td>U34</td>\n",
       "      <td>ID67503</td>\n",
       "      <td>0</td>\n",
       "      <td>Pos</td>\n",
       "      <td>iva</td>\n",
       "      <td>67503</td>\n",
       "    </tr>\n",
       "    <tr>\n",
       "      <th>53</th>\n",
       "      <td>1</td>\n",
       "      <td>2016-12-14 17:20:39</td>\n",
       "      <td>Per HelpDesk / Richiamare Arianna per fattura ...</td>\n",
       "      <td>SW</td>\n",
       "      <td>sw</td>\n",
       "      <td>Cliente</td>\n",
       "      <td>Spiegato come incide la dich.Intento su Delfatbo.</td>\n",
       "      <td>2016-12-15 14:43:50</td>\n",
       "      <td>giovedì 15 dicembre 2016</td>\n",
       "      <td>C1643</td>\n",
       "      <td>U34</td>\n",
       "      <td>ID67596</td>\n",
       "      <td>1</td>\n",
       "      <td>Pos</td>\n",
       "      <td>fattura</td>\n",
       "      <td>67596</td>\n",
       "    </tr>\n",
       "    <tr>\n",
       "      <th>54</th>\n",
       "      <td>1</td>\n",
       "      <td>2016-12-15 11:52:36</td>\n",
       "      <td>Per HelpDesk / Richiamare Gianni per applico e...</td>\n",
       "      <td>SW</td>\n",
       "      <td>sw</td>\n",
       "      <td>Cliente</td>\n",
       "      <td>Provare su causale 11 Fat.Acquisto</td>\n",
       "      <td>2016-12-19 16:53:50</td>\n",
       "      <td>giovedì 15 dicembre 2016</td>\n",
       "      <td>C1839</td>\n",
       "      <td>U34</td>\n",
       "      <td>ID67609</td>\n",
       "      <td>4</td>\n",
       "      <td>Pos</td>\n",
       "      <td>iva</td>\n",
       "      <td>67609</td>\n",
       "    </tr>\n",
       "    <tr>\n",
       "      <th>55</th>\n",
       "      <td>1</td>\n",
       "      <td>2016-12-15 18:00:44</td>\n",
       "      <td>Per HelpDesk / Richiamare Giorgia per anagrafica</td>\n",
       "      <td>SW</td>\n",
       "      <td>sw</td>\n",
       "      <td>Cliente</td>\n",
       "      <td>Supporto per inserire anagrafica clienti</td>\n",
       "      <td>2016-12-15 18:09:52</td>\n",
       "      <td>giovedì 15 dicembre 2016</td>\n",
       "      <td>C1586</td>\n",
       "      <td>U34</td>\n",
       "      <td>ID67618</td>\n",
       "      <td>0</td>\n",
       "      <td>Pos</td>\n",
       "      <td>altro</td>\n",
       "      <td>67618</td>\n",
       "    </tr>\n",
       "    <tr>\n",
       "      <th>56</th>\n",
       "      <td>1</td>\n",
       "      <td>2016-12-28 17:11:37</td>\n",
       "      <td>Per HelpDesk / Richiamare Pezzella per nuova r...</td>\n",
       "      <td>SW</td>\n",
       "      <td>sw</td>\n",
       "      <td>Cliente</td>\n",
       "      <td>Lo farà il 2/02/17</td>\n",
       "      <td>2016-12-28 17:33:52</td>\n",
       "      <td>mercoledì 28 dicembre 2016</td>\n",
       "      <td>C1632</td>\n",
       "      <td>U34</td>\n",
       "      <td>ID67690</td>\n",
       "      <td>0</td>\n",
       "      <td>Pos</td>\n",
       "      <td>fattura</td>\n",
       "      <td>67690</td>\n",
       "    </tr>\n",
       "    <tr>\n",
       "      <th>57</th>\n",
       "      <td>1</td>\n",
       "      <td>2016-07-19 18:10:55</td>\n",
       "      <td>Per HelpDesk / Richiamare Non quadra mastro cl...</td>\n",
       "      <td>SW</td>\n",
       "      <td>sw</td>\n",
       "      <td>Cliente</td>\n",
       "      <td>Ormai non serve più</td>\n",
       "      <td>2016-12-29 09:48:46</td>\n",
       "      <td>giovedì 29 dicembre 2016</td>\n",
       "      <td>C919</td>\n",
       "      <td>U34</td>\n",
       "      <td>ID66544</td>\n",
       "      <td>163</td>\n",
       "      <td>Neg</td>\n",
       "      <td>altro</td>\n",
       "      <td>66544</td>\n",
       "    </tr>\n",
       "    <tr>\n",
       "      <th>58</th>\n",
       "      <td>1</td>\n",
       "      <td>2017-01-09 11:28:27</td>\n",
       "      <td>Per HelpDesk / Richiamare Marusca per corregge...</td>\n",
       "      <td>SW</td>\n",
       "      <td>sw</td>\n",
       "      <td>Cliente</td>\n",
       "      <td>Coretto conto do costo su fatture di maggio.</td>\n",
       "      <td>2017-01-09 12:09:30</td>\n",
       "      <td>lunedì 9 gennaio 2017</td>\n",
       "      <td>C2182</td>\n",
       "      <td>U34</td>\n",
       "      <td>ID67739</td>\n",
       "      <td>0</td>\n",
       "      <td>Pos</td>\n",
       "      <td>fattura</td>\n",
       "      <td>67739</td>\n",
       "    </tr>\n",
       "  </tbody>\n",
       "</table>\n",
       "</div>"
      ],
      "text/plain": [
       "    durata_risoluzione Data_Arrivo_chiamata  \\\n",
       "0                    1  2016-01-14 10:39:22   \n",
       "1                    1  2016-01-18 12:56:18   \n",
       "2                    1  2016-01-21 10:03:48   \n",
       "3                    1  2016-01-20 17:47:46   \n",
       "5                    1  2016-01-28 10:00:41   \n",
       "6                    1  2016-02-04 15:03:52   \n",
       "7                    1  2016-02-04 15:23:15   \n",
       "8                    1  2016-02-08 16:31:09   \n",
       "9                    1  2016-02-22 08:40:25   \n",
       "10                   1  2016-02-29 16:09:49   \n",
       "11                   1  2016-03-03 12:02:13   \n",
       "12                   1  2016-03-10 08:49:49   \n",
       "13                   1  2016-03-10 16:18:42   \n",
       "14                   1  2016-03-17 11:32:16   \n",
       "17                   1  2016-03-17 08:32:15   \n",
       "18                   1  2016-02-25 15:06:35   \n",
       "20                   1  2016-03-31 14:04:14   \n",
       "21                   1  2016-04-07 09:01:03   \n",
       "22                   1  2016-04-07 15:25:46   \n",
       "23                   1  2016-04-07 18:01:58   \n",
       "24                   1  2016-04-07 18:01:58   \n",
       "25                   1  2016-04-19 08:55:40   \n",
       "26                   1  2016-04-19 16:30:10   \n",
       "27                   1  2016-05-05 08:53:58   \n",
       "28                   1  2016-05-06 14:59:42   \n",
       "29                   1  2016-05-12 14:43:50   \n",
       "30                   1  2016-05-19 16:36:46   \n",
       "31                   1  2016-06-09 16:23:06   \n",
       "32                   1  2016-06-09 17:22:06   \n",
       "33                   1  2016-06-21 08:06:37   \n",
       "34                   1  2016-06-30 15:00:00   \n",
       "35                   1  2016-07-21 09:59:36   \n",
       "38                   1  2016-08-02 15:01:47   \n",
       "40                   1  2016-08-04 10:15:16   \n",
       "41                   1  2016-09-13 11:54:49   \n",
       "42                   1  2016-09-23 10:54:58   \n",
       "43                   1  2016-09-29 15:33:02   \n",
       "44                   1  2016-09-29 17:15:50   \n",
       "45                   1  2016-10-20 14:29:30   \n",
       "46                   1  2016-11-03 08:25:48   \n",
       "47                   1  2016-11-10 10:19:46   \n",
       "48                   1  2016-11-17 15:53:21   \n",
       "49                   1  2016-11-29 10:34:52   \n",
       "50                   1  2016-12-01 11:40:55   \n",
       "53                   1  2016-12-14 17:20:39   \n",
       "54                   1  2016-12-15 11:52:36   \n",
       "55                   1  2016-12-15 18:00:44   \n",
       "56                   1  2016-12-28 17:11:37   \n",
       "57                   1  2016-07-19 18:10:55   \n",
       "58                   1  2017-01-09 11:28:27   \n",
       "\n",
       "                                 Descrizione_Chiamata Classe Natura  \\\n",
       "0                   Per HelpDesk / Richiamare Carmela     SW     sw   \n",
       "1      Per HelpDesk / Richiamare Maila x Ammortamenti     SW     sw   \n",
       "2   Per HelpDesk / Richiamare Francesca per fattur...     SW     sw   \n",
       "3   Per HelpDesk / Richiamare Dtb anariten (come f...     SW     sw   \n",
       "5      Per HelpDesk / Richiamare Correggere movimento     SW     sw   \n",
       "6                Per HelpDesk / Richiamare Alessandra     SW     sw   \n",
       "7   Per HelpDesk / Richiamare Francesca x iva veng...     SW     sw   \n",
       "8   Per HelpDesk / Richiamare Fabio per pulizia ar...     SW     sw   \n",
       "9       Per HelpDesk / Richiamare  x Liquidazione iva     SW     sw   \n",
       "10      Per HelpDesk / Richiamare X Articoli Obsoleti     SW     sw   \n",
       "11  Per HelpDesk / Richiamare : Alessandra per Doc...     SW     sw   \n",
       "12  Per HelpDesk / Richiamare Stura per Certificaz...     SW     sw   \n",
       "13         Per HelpDesk / Richiamare liquidazione iva     SW     sw   \n",
       "14  Per HelpDesk / Richiamare Letizia per portafoglio     SW     sw   \n",
       "17  Per HelpDesk / Richiamare Modificare modulo CL...     SW     sw   \n",
       "18       Per HelpDesk / Richiamare per reverse charge     SW     sw   \n",
       "20               Per HelpDesk / Richiamare Spesometro     SW     sw   \n",
       "21      Per HelpDesk / Richiamare x stampa anagrafica     SW     sw   \n",
       "22  Per HelpDesk / Richiamare Sbollare gennaio e f...     SW     sw   \n",
       "23                  Per HelpDesk / Richiamare Antonio     SW     sw   \n",
       "24                  Per HelpDesk / Richiamare Antonio     SW     sw   \n",
       "25  Per HelpDesk / Richiamare : Ombretta per numer...     SW     sw   \n",
       "26             Per HelpDesk / Richiamare Ammortamenti     SW     sw   \n",
       "27   Per HelpDesk / Richiamare Francesco per giacenze     SW     sw   \n",
       "28    Per HelpDesk / Richiamare Elena per provvigioni     SW     sw   \n",
       "29  Per HelpDesk / Richiamare avrei bisogno di cor...     SW     sw   \n",
       "30       Per HelpDesk / Richiamare : bolla di vendita     SW     sw   \n",
       "31  Per HelpDesk / Richiamare Claudia  quando sono...     SW     sw   \n",
       "32  abbiamo riscontrato una anomalia nel calcolo d...     SW     sw   \n",
       "33     Per HelpDesk / Richiamare Causale per bonifici     SW     sw   \n",
       "34      Per HelpDesk / Richiamare x fatture in valuta     SW     sw   \n",
       "35  Per HelpDesk / Richiamare sbollare movimenti c...     SW     sw   \n",
       "38                    X Simonetta richiamare Marianna     SW     sw   \n",
       "40  Per HelpDesk / Richiamare il 14.7.2016 ho tras...     SW     sw   \n",
       "41  Per HelpDesk / Richiamare Simone per stampante...     SW     sw   \n",
       "42  Per HelpDesk / Richiamare Alessandra X Quello ...     SW     sw   \n",
       "43                          Per HelpDesk / Richiamare     SW     sw   \n",
       "44          Per HelpDesk / Richiamare Paolo x Comessa     SW     sw   \n",
       "45    Per HelpDesk / Richiamare dichiarazione intento     SW     sw   \n",
       "46  Per HelpDesk / Richiamare Per stampa orizzonta...     SW     sw   \n",
       "47  Per HelpDesk / Richiamare Alessandra alcuni or...     SW     sw   \n",
       "48  Per HelpDesk / Richiamare Milena per distinta SBF     SW     sw   \n",
       "49                  Per HelpDesk / Richiamare Mirella     SW     sw   \n",
       "50  Per HelpDesk / Richiamare Claudio per liquidaz...     SW     sw   \n",
       "53  Per HelpDesk / Richiamare Arianna per fattura ...     SW     sw   \n",
       "54  Per HelpDesk / Richiamare Gianni per applico e...     SW     sw   \n",
       "55   Per HelpDesk / Richiamare Giorgia per anagrafica     SW     sw   \n",
       "56  Per HelpDesk / Richiamare Pezzella per nuova r...     SW     sw   \n",
       "57  Per HelpDesk / Richiamare Non quadra mastro cl...     SW     sw   \n",
       "58  Per HelpDesk / Richiamare Marusca per corregge...     SW     sw   \n",
       "\n",
       "   Origine_Proglema                             Descrizione_Risolutore  \\\n",
       "0           Cliente   Supporto per ripristinare protocolli autofatture   \n",
       "1           Cliente  Supporto per gestire beni inferiori a 516,00 euro   \n",
       "2           Cliente            Sbloccato fatturazione Killato provesso   \n",
       "3           Cliente                                   Non si può fare.   \n",
       "5           Cliente              Coretto movimento contabile anno 2015   \n",
       "6           Cliente             Supporto per mettere a menu Stipendi.c   \n",
       "7           Cliente               Spiegato a Barbara come deve operare   \n",
       "8           Cliente                                      Fabio non c'è   \n",
       "9           Cliente                           Faccio intervento Domani   \n",
       "10          Cliente                                   Fatto preventivo   \n",
       "11          Cliente                           Domani faccio intervento   \n",
       "12          Cliente  Supporto a Claudio per stampa r3egistri e liqu...   \n",
       "13          Cliente               supporto per stampa liquidazione iva   \n",
       "14          Cliente            Bisogna provare a creare cod.Pag spazio   \n",
       "17          Cliente                                      Fatto offerta   \n",
       "18          Cliente                Il Gab deve correggere il programma   \n",
       "20          Cliente                        Ormai lo hanno fatto a mano   \n",
       "21          Cliente             Supporto per stampa anagrafica clienti   \n",
       "22          Cliente         Sbollato gennaio e febbraio libro giornale   \n",
       "23          Cliente                           Vuole una stampa clienti   \n",
       "24          Cliente                            Fatto offerta ore 12/16   \n",
       "25          Cliente                                    Chiamata doppia   \n",
       "26          Cliente                   Sbagliato cliente era GFL Kit...   \n",
       "27          Cliente  Non mi ha richiamato, significa che tutto va bene   \n",
       "28          Cliente                                    Chiamata doppia   \n",
       "29          Cliente                          FAtto intervento 15/05/16   \n",
       "30          Cliente            Aumentato n.caratteri su frm cup ordini   \n",
       "31          Cliente  Ad oggi non è possibile cambiare IBAN di risco...   \n",
       "32          Cliente                                    Chiamata doppia   \n",
       "33          Cliente                           Faccio intervento Domani   \n",
       "34          Cliente                Supporto per fare fatture in Valuta   \n",
       "35          Cliente     Non risponde, lasciato messaggio in segreteria   \n",
       "38          Cliente  Sembra tutto apposto, non ha più richiamato ma...   \n",
       "40          Cliente  Ormai avranno sicuramente chiamato il cliente ...   \n",
       "41          Cliente                        il cliente è Metal Castello   \n",
       "42          Cliente  Fatto analisi e mandato i tempi a Guglielmo pe...   \n",
       "43          Cliente                            Errato cliente era Vi20   \n",
       "44          Cliente                  parlato con luigi la gestisce lui   \n",
       "45          Cliente  Spiegato come fatturare. la dichiarazione inte...   \n",
       "46          Cliente        Sembra che vada tutto bene , la lascio così   \n",
       "47          Cliente  Sicuramente era un problema di inserimento ord...   \n",
       "48          Cliente  Supporto per presentare SBF e inserire codice ...   \n",
       "49          Cliente                  Chiarimenti su anagrafica banache   \n",
       "50          Cliente            importo versato su settembre era errato   \n",
       "53          Cliente  Spiegato come incide la dich.Intento su Delfatbo.   \n",
       "54          Cliente                 Provare su causale 11 Fat.Acquisto   \n",
       "55          Cliente           Supporto per inserire anagrafica clienti   \n",
       "56          Cliente                                 Lo farà il 2/02/17   \n",
       "57          Cliente                                Ormai non serve più   \n",
       "58          Cliente       Coretto conto do costo su fatture di maggio.   \n",
       "\n",
       "   Data_Chiusura_Chiamata       Data_Gestione_Chiamata CLIENTE UTENTE  \\\n",
       "0     2016-01-14 10:40:49      giovedì 14 gennaio 2016   C1836    U34   \n",
       "1     2016-02-22 15:26:32       lunedì 18 gennaio 2016    C233    U34   \n",
       "2     2016-01-21 10:04:49      giovedì 21 gennaio 2016   C1887    U34   \n",
       "3     2016-01-21 18:03:57      giovedì 21 gennaio 2016   C2182    U34   \n",
       "5     2016-01-28 10:28:39      giovedì 28 gennaio 2016   C2182    U34   \n",
       "6     2016-02-04 15:28:05      giovedì 4 febbraio 2016   C1711    U34   \n",
       "7     2016-02-08 16:00:54       lunedì 8 febbraio 2016   C1582    U34   \n",
       "8     2016-02-18 11:44:11       lunedì 8 febbraio 2016   C2030    U34   \n",
       "9     2016-02-22 15:23:27      lunedì 22 febbraio 2016   C2182    U34   \n",
       "10    2016-03-03 12:55:28         giovedì 3 marzo 2016    C510    U34   \n",
       "11    2016-03-03 17:37:21         giovedì 3 marzo 2016   C1711    U34   \n",
       "12    2016-03-10 14:56:17        giovedì 10 marzo 2016   C1711    U34   \n",
       "13    2016-03-10 16:24:04        giovedì 10 marzo 2016   C1771    U34   \n",
       "14    2016-04-13 11:26:07        giovedì 17 marzo 2016   C1286    U34   \n",
       "17    2016-03-22 12:49:08        martedì 22 marzo 2016     C93    U34   \n",
       "18    2016-03-31 11:44:23        martedì 22 marzo 2016   C1796    U34   \n",
       "20    2016-04-07 12:50:16        giovedì 7 aprile 2016   C1906    U34   \n",
       "21    2016-04-07 15:20:15        giovedì 7 aprile 2016   C1215    U34   \n",
       "22    2016-04-07 15:31:41        giovedì 7 aprile 2016    C233    U34   \n",
       "23    2016-04-13 09:05:07        giovedì 7 aprile 2016   C2010    U34   \n",
       "24    2016-04-13 09:05:07     mercoledì 13 aprile 2016   C2010    U34   \n",
       "25    2016-04-19 08:57:10       martedì 19 aprile 2016   C1361    U34   \n",
       "26    2016-04-19 16:31:25       martedì 19 aprile 2016   C1737    U34   \n",
       "27    2016-05-05 17:16:08        giovedì 5 maggio 2016   C1215    U34   \n",
       "28    2016-05-06 15:01:00        venerdì 6 maggio 2016   C1796    U34   \n",
       "29    2016-05-19 08:44:24       giovedì 19 maggio 2016   C1711    U34   \n",
       "30    2016-05-23 09:09:02        lunedì 23 maggio 2016    C178    U34   \n",
       "31    2016-06-10 17:03:07        giovedì 9 giugno 2016   C2182    U34   \n",
       "32    2016-06-09 17:39:19        giovedì 9 giugno 2016   C1599    U34   \n",
       "33    2016-06-21 16:26:51       martedì 21 giugno 2016   C1361    U34   \n",
       "34    2016-06-30 15:02:00       giovedì 30 giugno 2016   C1837    U34   \n",
       "35    2016-07-26 17:23:33       venerdì 22 luglio 2016   C1633    U34   \n",
       "38    2016-08-03 12:29:57      mercoledì 3 agosto 2016   C2091    U34   \n",
       "40    2016-09-01 09:51:49     giovedì 1 settembre 2016      C8    U34   \n",
       "41    2016-09-13 12:01:12    martedì 13 settembre 2016   C1024    U34   \n",
       "42    2016-09-28 10:58:51  mercoledì 28 settembre 2016   C1711    U34   \n",
       "43    2016-09-29 16:10:32    giovedì 29 settembre 2016    C624    U34   \n",
       "44    2016-10-05 14:36:27     mercoledì 5 ottobre 2016     C22    U34   \n",
       "45    2016-10-20 14:43:47      giovedì 20 ottobre 2016   C2179    U34   \n",
       "46    2016-11-03 12:48:57      giovedì 3 novembre 2016   C2153    U34   \n",
       "47    2016-11-17 08:44:08     giovedì 17 novembre 2016   C1711    U34   \n",
       "48    2016-11-17 16:26:03     giovedì 17 novembre 2016   C1482    U34   \n",
       "49    2016-11-29 11:29:29     martedì 29 novembre 2016   C1660    U34   \n",
       "50    2016-12-01 11:42:32      giovedì 1 dicembre 2016   C1711    U34   \n",
       "53    2016-12-15 14:43:50     giovedì 15 dicembre 2016   C1643    U34   \n",
       "54    2016-12-19 16:53:50     giovedì 15 dicembre 2016   C1839    U34   \n",
       "55    2016-12-15 18:09:52     giovedì 15 dicembre 2016   C1586    U34   \n",
       "56    2016-12-28 17:33:52   mercoledì 28 dicembre 2016   C1632    U34   \n",
       "57    2016-12-29 09:48:46     giovedì 29 dicembre 2016    C919    U34   \n",
       "58    2017-01-09 12:09:30        lunedì 9 gennaio 2017   C2182    U34   \n",
       "\n",
       "         ID  DURATA SEGN.   SA         Topic     ID2  \n",
       "0   ID64898             0  Pos         altro   64898  \n",
       "1   ID64926            35  Pos  contabilitÃ    64926  \n",
       "2   ID64962             0  Pos       fattura   64962  \n",
       "3   ID64958             1  Pos         altro   64958  \n",
       "5   ID64997             0  Pos         altro   64997  \n",
       "6   ID65064             0  Pos         altro   65064  \n",
       "7   ID65066             4  Pos           iva   65066  \n",
       "8   ID65090            10  Neg    inventario   65090  \n",
       "9   ID65199             0  Neg           iva   65199  \n",
       "10  ID65275             3  Pos    inventario   65275  \n",
       "11  ID65307             0  Neg         altro   65307  \n",
       "12  ID65360             0  Pos         altro   65360  \n",
       "13  ID65378             0  Pos           iva   65378  \n",
       "14  ID65455            27  Pos         altro   65455  \n",
       "17  ID65444             5  Pos         altro   65444  \n",
       "18  ID65246            35  Pos         altro   65246  \n",
       "20  ID65583             7  Pos   modulistica   65583  \n",
       "21  ID65668             0  Pos         altro   65668  \n",
       "22  ID65692             0  Pos         altro   65692  \n",
       "23  ID65703             6  Pos         altro   65703  \n",
       "24  ID65703             6  Pos         altro   65703  \n",
       "25  ID65807             0  Pos         altro   65807  \n",
       "26  ID65819             0  Pos  contabilitÃ    65819  \n",
       "27  ID65966             0  Neg    inventario   65966  \n",
       "28  ID65984             0  Pos  contabilitÃ    65984  \n",
       "29  ID66028             7  Pos         altro   66028  \n",
       "30  ID66080             4  Pos       fattura   66080  \n",
       "31  ID66246             1  Pos         altro   66246  \n",
       "32  ID66250             0  Pos         altro   66250  \n",
       "33  ID66309             0  Neg         altro   66309  \n",
       "34  ID66401             0  Pos       fattura   66401  \n",
       "35  ID66562             5  Neg  contabilitÃ    66562  \n",
       "38  ID66668             1  Neg  contabilitÃ    66668  \n",
       "40  ID66689            28  Pos       fattura   66689  \n",
       "41  ID66870             0  Pos        stampa   66870  \n",
       "42  ID66965             5  Pos       fattura   66965  \n",
       "43  ID67024             0  Pos         altro   67024  \n",
       "44  ID67028             6  Pos         altro   67028  \n",
       "45  ID67198             0  Pos   modulistica   67198  \n",
       "46  ID67289             0  Pos        stampa   67289  \n",
       "47  ID67354             7  Pos         altro   67354  \n",
       "48  ID67394             0  Pos  contabilitÃ    67394  \n",
       "49  ID67479             0  Pos         altro   67479  \n",
       "50  ID67503             0  Pos           iva   67503  \n",
       "53  ID67596             1  Pos       fattura   67596  \n",
       "54  ID67609             4  Pos           iva   67609  \n",
       "55  ID67618             0  Pos         altro   67618  \n",
       "56  ID67690             0  Pos       fattura   67690  \n",
       "57  ID66544           163  Neg         altro   66544  \n",
       "58  ID67739             0  Pos       fattura   67739  "
      ]
     },
     "execution_count": 316,
     "metadata": {},
     "output_type": "execute_result"
    }
   ],
   "source": [
    "dfAll.head(50)"
   ]
  },
  {
   "cell_type": "code",
   "execution_count": 294,
   "metadata": {
    "collapsed": true
   },
   "outputs": [],
   "source": [
    "dfAll = dfAll.dropna(axis=0, subset=['Descrizione_Risolutore'])"
   ]
  },
  {
   "cell_type": "code",
   "execution_count": 295,
   "metadata": {},
   "outputs": [
    {
     "data": {
      "text/plain": [
       "10210"
      ]
     },
     "execution_count": 295,
     "metadata": {},
     "output_type": "execute_result"
    }
   ],
   "source": [
    "len(dfAll)"
   ]
  },
  {
   "cell_type": "code",
   "execution_count": 296,
   "metadata": {
    "collapsed": true
   },
   "outputs": [],
   "source": [
    "dfAll['SA'] = model.predict(dfAll.Descrizione_Risolutore)"
   ]
  },
  {
   "cell_type": "code",
   "execution_count": 297,
   "metadata": {},
   "outputs": [
    {
     "data": {
      "text/html": [
       "<div>\n",
       "<style scoped>\n",
       "    .dataframe tbody tr th:only-of-type {\n",
       "        vertical-align: middle;\n",
       "    }\n",
       "\n",
       "    .dataframe tbody tr th {\n",
       "        vertical-align: top;\n",
       "    }\n",
       "\n",
       "    .dataframe thead th {\n",
       "        text-align: right;\n",
       "    }\n",
       "</style>\n",
       "<table border=\"1\" class=\"dataframe\">\n",
       "  <thead>\n",
       "    <tr style=\"text-align: right;\">\n",
       "      <th></th>\n",
       "      <th>durata_risoluzione</th>\n",
       "      <th>Data_Arrivo_chiamata</th>\n",
       "      <th>Descrizione_Chiamata</th>\n",
       "      <th>Classe</th>\n",
       "      <th>Natura</th>\n",
       "      <th>Nome_Programma_Inerente_Chiamata</th>\n",
       "      <th>Origine_Proglema</th>\n",
       "      <th>Descrizione_Risolutore</th>\n",
       "      <th>Data_Chiusura_Chiamata</th>\n",
       "      <th>Data_Gestione_Chiamata</th>\n",
       "      <th>CLIENTE</th>\n",
       "      <th>UTENTE</th>\n",
       "      <th>ID</th>\n",
       "      <th>DURATA SEGN.</th>\n",
       "      <th>SA</th>\n",
       "    </tr>\n",
       "  </thead>\n",
       "  <tbody>\n",
       "    <tr>\n",
       "      <th>0</th>\n",
       "      <td>1</td>\n",
       "      <td>2016-01-14 10:39:22</td>\n",
       "      <td>Per HelpDesk / Richiamare Carmela</td>\n",
       "      <td>SW</td>\n",
       "      <td>sw</td>\n",
       "      <td>NaN</td>\n",
       "      <td>Cliente</td>\n",
       "      <td>Supporto per ripristinare protocolli autofatture</td>\n",
       "      <td>2016-01-14 10:40:49</td>\n",
       "      <td>giovedì 14 gennaio 2016</td>\n",
       "      <td>C1836</td>\n",
       "      <td>U34</td>\n",
       "      <td>ID64898</td>\n",
       "      <td>0</td>\n",
       "      <td>Pos</td>\n",
       "    </tr>\n",
       "    <tr>\n",
       "      <th>1</th>\n",
       "      <td>1</td>\n",
       "      <td>2016-01-18 12:56:18</td>\n",
       "      <td>Per HelpDesk / Richiamare Maila x Ammortamenti</td>\n",
       "      <td>SW</td>\n",
       "      <td>sw</td>\n",
       "      <td>NaN</td>\n",
       "      <td>Cliente</td>\n",
       "      <td>Supporto per gestire beni inferiori a 516,00 euro</td>\n",
       "      <td>2016-02-22 15:26:32</td>\n",
       "      <td>lunedì 18 gennaio 2016</td>\n",
       "      <td>C233</td>\n",
       "      <td>U34</td>\n",
       "      <td>ID64926</td>\n",
       "      <td>35</td>\n",
       "      <td>Pos</td>\n",
       "    </tr>\n",
       "    <tr>\n",
       "      <th>2</th>\n",
       "      <td>1</td>\n",
       "      <td>2016-01-21 10:03:48</td>\n",
       "      <td>Per HelpDesk / Richiamare Francesca per fattur...</td>\n",
       "      <td>SW</td>\n",
       "      <td>sw</td>\n",
       "      <td>NaN</td>\n",
       "      <td>Cliente</td>\n",
       "      <td>Sbloccato fatturazione Killato provesso</td>\n",
       "      <td>2016-01-21 10:04:49</td>\n",
       "      <td>giovedì 21 gennaio 2016</td>\n",
       "      <td>C1887</td>\n",
       "      <td>U34</td>\n",
       "      <td>ID64962</td>\n",
       "      <td>0</td>\n",
       "      <td>Pos</td>\n",
       "    </tr>\n",
       "    <tr>\n",
       "      <th>3</th>\n",
       "      <td>1</td>\n",
       "      <td>2016-01-20 17:47:46</td>\n",
       "      <td>Per HelpDesk / Richiamare Dtb anariten (come f...</td>\n",
       "      <td>SW</td>\n",
       "      <td>sw</td>\n",
       "      <td>NaN</td>\n",
       "      <td>Cliente</td>\n",
       "      <td>Non si può fare.</td>\n",
       "      <td>2016-01-21 18:03:57</td>\n",
       "      <td>giovedì 21 gennaio 2016</td>\n",
       "      <td>C2182</td>\n",
       "      <td>U34</td>\n",
       "      <td>ID64958</td>\n",
       "      <td>1</td>\n",
       "      <td>Pos</td>\n",
       "    </tr>\n",
       "    <tr>\n",
       "      <th>5</th>\n",
       "      <td>1</td>\n",
       "      <td>2016-01-28 10:00:41</td>\n",
       "      <td>Per HelpDesk / Richiamare Correggere movimento</td>\n",
       "      <td>SW</td>\n",
       "      <td>sw</td>\n",
       "      <td>NaN</td>\n",
       "      <td>Cliente</td>\n",
       "      <td>Coretto movimento contabile anno 2015</td>\n",
       "      <td>2016-01-28 10:28:39</td>\n",
       "      <td>giovedì 28 gennaio 2016</td>\n",
       "      <td>C2182</td>\n",
       "      <td>U34</td>\n",
       "      <td>ID64997</td>\n",
       "      <td>0</td>\n",
       "      <td>Pos</td>\n",
       "    </tr>\n",
       "    <tr>\n",
       "      <th>6</th>\n",
       "      <td>1</td>\n",
       "      <td>2016-02-04 15:03:52</td>\n",
       "      <td>Per HelpDesk / Richiamare Alessandra</td>\n",
       "      <td>SW</td>\n",
       "      <td>sw</td>\n",
       "      <td>NaN</td>\n",
       "      <td>Cliente</td>\n",
       "      <td>Supporto per mettere a menu Stipendi.c</td>\n",
       "      <td>2016-02-04 15:28:05</td>\n",
       "      <td>giovedì 4 febbraio 2016</td>\n",
       "      <td>C1711</td>\n",
       "      <td>U34</td>\n",
       "      <td>ID65064</td>\n",
       "      <td>0</td>\n",
       "      <td>Pos</td>\n",
       "    </tr>\n",
       "    <tr>\n",
       "      <th>7</th>\n",
       "      <td>1</td>\n",
       "      <td>2016-02-04 15:23:15</td>\n",
       "      <td>Per HelpDesk / Richiamare Francesca x iva veng...</td>\n",
       "      <td>SW</td>\n",
       "      <td>sw</td>\n",
       "      <td>NaN</td>\n",
       "      <td>Cliente</td>\n",
       "      <td>Spiegato a Barbara come deve operare</td>\n",
       "      <td>2016-02-08 16:00:54</td>\n",
       "      <td>lunedì 8 febbraio 2016</td>\n",
       "      <td>C1582</td>\n",
       "      <td>U34</td>\n",
       "      <td>ID65066</td>\n",
       "      <td>4</td>\n",
       "      <td>Pos</td>\n",
       "    </tr>\n",
       "    <tr>\n",
       "      <th>8</th>\n",
       "      <td>1</td>\n",
       "      <td>2016-02-08 16:31:09</td>\n",
       "      <td>Per HelpDesk / Richiamare Fabio per pulizia ar...</td>\n",
       "      <td>SW</td>\n",
       "      <td>sw</td>\n",
       "      <td>NaN</td>\n",
       "      <td>Cliente</td>\n",
       "      <td>Fabio non c'è</td>\n",
       "      <td>2016-02-18 11:44:11</td>\n",
       "      <td>lunedì 8 febbraio 2016</td>\n",
       "      <td>C2030</td>\n",
       "      <td>U34</td>\n",
       "      <td>ID65090</td>\n",
       "      <td>10</td>\n",
       "      <td>Neg</td>\n",
       "    </tr>\n",
       "    <tr>\n",
       "      <th>9</th>\n",
       "      <td>1</td>\n",
       "      <td>2016-02-22 08:40:25</td>\n",
       "      <td>Per HelpDesk / Richiamare  x Liquidazione iva</td>\n",
       "      <td>SW</td>\n",
       "      <td>sw</td>\n",
       "      <td>NaN</td>\n",
       "      <td>Cliente</td>\n",
       "      <td>Faccio intervento Domani</td>\n",
       "      <td>2016-02-22 15:23:27</td>\n",
       "      <td>lunedì 22 febbraio 2016</td>\n",
       "      <td>C2182</td>\n",
       "      <td>U34</td>\n",
       "      <td>ID65199</td>\n",
       "      <td>0</td>\n",
       "      <td>Neg</td>\n",
       "    </tr>\n",
       "    <tr>\n",
       "      <th>10</th>\n",
       "      <td>1</td>\n",
       "      <td>2016-02-29 16:09:49</td>\n",
       "      <td>Per HelpDesk / Richiamare X Articoli Obsoleti</td>\n",
       "      <td>SW</td>\n",
       "      <td>sw</td>\n",
       "      <td>NaN</td>\n",
       "      <td>Cliente</td>\n",
       "      <td>Fatto preventivo</td>\n",
       "      <td>2016-03-03 12:55:28</td>\n",
       "      <td>giovedì 3 marzo 2016</td>\n",
       "      <td>C510</td>\n",
       "      <td>U34</td>\n",
       "      <td>ID65275</td>\n",
       "      <td>3</td>\n",
       "      <td>Pos</td>\n",
       "    </tr>\n",
       "  </tbody>\n",
       "</table>\n",
       "</div>"
      ],
      "text/plain": [
       "    durata_risoluzione Data_Arrivo_chiamata  \\\n",
       "0                    1  2016-01-14 10:39:22   \n",
       "1                    1  2016-01-18 12:56:18   \n",
       "2                    1  2016-01-21 10:03:48   \n",
       "3                    1  2016-01-20 17:47:46   \n",
       "5                    1  2016-01-28 10:00:41   \n",
       "6                    1  2016-02-04 15:03:52   \n",
       "7                    1  2016-02-04 15:23:15   \n",
       "8                    1  2016-02-08 16:31:09   \n",
       "9                    1  2016-02-22 08:40:25   \n",
       "10                   1  2016-02-29 16:09:49   \n",
       "\n",
       "                                 Descrizione_Chiamata Classe Natura  \\\n",
       "0                   Per HelpDesk / Richiamare Carmela     SW     sw   \n",
       "1      Per HelpDesk / Richiamare Maila x Ammortamenti     SW     sw   \n",
       "2   Per HelpDesk / Richiamare Francesca per fattur...     SW     sw   \n",
       "3   Per HelpDesk / Richiamare Dtb anariten (come f...     SW     sw   \n",
       "5      Per HelpDesk / Richiamare Correggere movimento     SW     sw   \n",
       "6                Per HelpDesk / Richiamare Alessandra     SW     sw   \n",
       "7   Per HelpDesk / Richiamare Francesca x iva veng...     SW     sw   \n",
       "8   Per HelpDesk / Richiamare Fabio per pulizia ar...     SW     sw   \n",
       "9       Per HelpDesk / Richiamare  x Liquidazione iva     SW     sw   \n",
       "10      Per HelpDesk / Richiamare X Articoli Obsoleti     SW     sw   \n",
       "\n",
       "   Nome_Programma_Inerente_Chiamata Origine_Proglema  \\\n",
       "0                               NaN          Cliente   \n",
       "1                               NaN          Cliente   \n",
       "2                               NaN          Cliente   \n",
       "3                               NaN          Cliente   \n",
       "5                               NaN          Cliente   \n",
       "6                               NaN          Cliente   \n",
       "7                               NaN          Cliente   \n",
       "8                               NaN          Cliente   \n",
       "9                               NaN          Cliente   \n",
       "10                              NaN          Cliente   \n",
       "\n",
       "                               Descrizione_Risolutore Data_Chiusura_Chiamata  \\\n",
       "0    Supporto per ripristinare protocolli autofatture    2016-01-14 10:40:49   \n",
       "1   Supporto per gestire beni inferiori a 516,00 euro    2016-02-22 15:26:32   \n",
       "2             Sbloccato fatturazione Killato provesso    2016-01-21 10:04:49   \n",
       "3                                    Non si può fare.    2016-01-21 18:03:57   \n",
       "5               Coretto movimento contabile anno 2015    2016-01-28 10:28:39   \n",
       "6              Supporto per mettere a menu Stipendi.c    2016-02-04 15:28:05   \n",
       "7                Spiegato a Barbara come deve operare    2016-02-08 16:00:54   \n",
       "8                                       Fabio non c'è    2016-02-18 11:44:11   \n",
       "9                            Faccio intervento Domani    2016-02-22 15:23:27   \n",
       "10                                   Fatto preventivo    2016-03-03 12:55:28   \n",
       "\n",
       "     Data_Gestione_Chiamata CLIENTE UTENTE       ID  DURATA SEGN.   SA  \n",
       "0   giovedì 14 gennaio 2016   C1836    U34  ID64898             0  Pos  \n",
       "1    lunedì 18 gennaio 2016    C233    U34  ID64926            35  Pos  \n",
       "2   giovedì 21 gennaio 2016   C1887    U34  ID64962             0  Pos  \n",
       "3   giovedì 21 gennaio 2016   C2182    U34  ID64958             1  Pos  \n",
       "5   giovedì 28 gennaio 2016   C2182    U34  ID64997             0  Pos  \n",
       "6   giovedì 4 febbraio 2016   C1711    U34  ID65064             0  Pos  \n",
       "7    lunedì 8 febbraio 2016   C1582    U34  ID65066             4  Pos  \n",
       "8    lunedì 8 febbraio 2016   C2030    U34  ID65090            10  Neg  \n",
       "9   lunedì 22 febbraio 2016   C2182    U34  ID65199             0  Neg  \n",
       "10     giovedì 3 marzo 2016    C510    U34  ID65275             3  Pos  "
      ]
     },
     "execution_count": 297,
     "metadata": {},
     "output_type": "execute_result"
    }
   ],
   "source": [
    "dfAll.head(10)"
   ]
  },
  {
   "cell_type": "markdown",
   "metadata": {},
   "source": [
    "# Task 2: Topic creation\n",
    "\n",
    "### Scope: We need to create relevant topics for newcall column. In this column we have a problem description (text) for each call."
   ]
  },
  {
   "cell_type": "markdown",
   "metadata": {},
   "source": [
    "Importing data:"
   ]
  },
  {
   "cell_type": "code",
   "execution_count": 243,
   "metadata": {
    "collapsed": true
   },
   "outputs": [],
   "source": [
    "ag = pd.read_csv(r\"C:\\Users\\nabu-pc\\Desktop\\Data Science\\Project field\\label17.csv\",sep=\",\",encoding =\"unicode_escape\")"
   ]
  },
  {
   "cell_type": "code",
   "execution_count": 244,
   "metadata": {
    "collapsed": true
   },
   "outputs": [],
   "source": [
    "X= ag['newcall']\n",
    "y= ag['label']"
   ]
  },
  {
   "cell_type": "markdown",
   "metadata": {},
   "source": [
    "Tryning with Decision Tree"
   ]
  },
  {
   "cell_type": "code",
   "execution_count": 245,
   "metadata": {},
   "outputs": [
    {
     "name": "stdout",
     "output_type": "stream",
     "text": [
      "There are 479 samples in the training dataset\n",
      "There are 160 samples in the testing dataset\n"
     ]
    }
   ],
   "source": [
    "X_train, X_test, y_train, y_test = train_test_split(X, y, random_state= r_state)# default Train 0.75- Test 0.25\n",
    "print(\"There are {} samples in the training dataset\".format(X_train.shape[0]))\n",
    "print(\"There are {} samples in the testing dataset\".format(X_test.shape[0]))"
   ]
  },
  {
   "cell_type": "code",
   "execution_count": 247,
   "metadata": {
    "collapsed": true
   },
   "outputs": [],
   "source": [
    "modelk0 = Pipeline([\n",
    "    (\"vectorizer\", TfidfVectorizer()),\n",
    "    (\"classifier\", tree.DecisionTreeClassifier(random_state = r_state))\n",
    "])"
   ]
  },
  {
   "cell_type": "code",
   "execution_count": 248,
   "metadata": {},
   "outputs": [
    {
     "data": {
      "text/plain": [
       "Pipeline(memory=None,\n",
       "     steps=[('vectorizer', TfidfVectorizer(analyzer='word', binary=False, decode_error='strict',\n",
       "        dtype=<class 'numpy.int64'>, encoding='utf-8', input='content',\n",
       "        lowercase=True, max_df=1.0, max_features=None, min_df=1,\n",
       "        ngram_range=(1, 1), norm='l2', preprocessor=None, smooth_idf=Tr...        min_weight_fraction_leaf=0.0, presort=False, random_state=42,\n",
       "            splitter='best'))])"
      ]
     },
     "execution_count": 248,
     "metadata": {},
     "output_type": "execute_result"
    }
   ],
   "source": [
    "modelk0.fit(X_train,y_train)"
   ]
  },
  {
   "cell_type": "code",
   "execution_count": 249,
   "metadata": {
    "collapsed": true
   },
   "outputs": [],
   "source": [
    "scorek0=modelk0.score(X_test,y_test)"
   ]
  },
  {
   "cell_type": "markdown",
   "metadata": {},
   "source": [
    "Trying with RandomForest:"
   ]
  },
  {
   "cell_type": "code",
   "execution_count": 250,
   "metadata": {
    "collapsed": true
   },
   "outputs": [],
   "source": [
    "modelk1 = Pipeline([\n",
    "    (\"vectorizer\", TfidfVectorizer()),\n",
    "    (\"classifier\", RandomForestClassifier(bootstrap=True, class_weight=None, criterion='gini',\n",
    "            max_depth=None, max_features='auto', max_leaf_nodes=None,\n",
    "            min_impurity_decrease=0.0, min_impurity_split=None,\n",
    "            min_samples_leaf=1, min_samples_split=2,\n",
    "            min_weight_fraction_leaf=0.0, n_estimators=150, n_jobs=1,\n",
    "            oob_score=False, random_state=r_state, verbose=0,\n",
    "            warm_start=False) )\n",
    "])"
   ]
  },
  {
   "cell_type": "code",
   "execution_count": 251,
   "metadata": {},
   "outputs": [
    {
     "data": {
      "text/plain": [
       "Pipeline(memory=None,\n",
       "     steps=[('vectorizer', TfidfVectorizer(analyzer='word', binary=False, decode_error='strict',\n",
       "        dtype=<class 'numpy.int64'>, encoding='utf-8', input='content',\n",
       "        lowercase=True, max_df=1.0, max_features=None, min_df=1,\n",
       "        ngram_range=(1, 1), norm='l2', preprocessor=None, smooth_idf=Tr...timators=150, n_jobs=1,\n",
       "            oob_score=False, random_state=42, verbose=0, warm_start=False))])"
      ]
     },
     "execution_count": 251,
     "metadata": {},
     "output_type": "execute_result"
    }
   ],
   "source": [
    "modelk1.fit(X_train,y_train)"
   ]
  },
  {
   "cell_type": "code",
   "execution_count": 252,
   "metadata": {
    "collapsed": true
   },
   "outputs": [],
   "source": [
    "scorek1=modelk1.score(X_test, y_test)"
   ]
  },
  {
   "cell_type": "code",
   "execution_count": 253,
   "metadata": {
    "collapsed": true
   },
   "outputs": [],
   "source": [
    "modelk2= Pipeline([\n",
    "    (\"vectorizer\", TfidfVectorizer(binary=True,min_df=3, ngram_range=(1, 3),tokenizer=tokenize_with_stemming,max_features=400)),\n",
    "    (\"classifier\", RandomForestClassifier(n_estimators=150, random_state=r_state,criterion='entropy',verbose=0.))\n",
    "])"
   ]
  },
  {
   "cell_type": "code",
   "execution_count": 254,
   "metadata": {},
   "outputs": [
    {
     "data": {
      "text/plain": [
       "Pipeline(memory=None,\n",
       "     steps=[('vectorizer', TfidfVectorizer(analyzer='word', binary=True, decode_error='strict',\n",
       "        dtype=<class 'numpy.int64'>, encoding='utf-8', input='content',\n",
       "        lowercase=True, max_df=1.0, max_features=400, min_df=3,\n",
       "        ngram_range=(1, 3), norm='l2', preprocessor=None, smooth_idf=True...n_jobs=1,\n",
       "            oob_score=False, random_state=42, verbose=0.0,\n",
       "            warm_start=False))])"
      ]
     },
     "execution_count": 254,
     "metadata": {},
     "output_type": "execute_result"
    }
   ],
   "source": [
    "modelk2.fit(X_train,y_train)"
   ]
  },
  {
   "cell_type": "code",
   "execution_count": 255,
   "metadata": {
    "collapsed": true
   },
   "outputs": [],
   "source": [
    "scorek2=modelk2.score(X_test, y_test)"
   ]
  },
  {
   "cell_type": "markdown",
   "metadata": {},
   "source": [
    "Trying with XGBoost:"
   ]
  },
  {
   "cell_type": "code",
   "execution_count": 256,
   "metadata": {
    "collapsed": true
   },
   "outputs": [],
   "source": [
    "modelk3 = Pipeline([\n",
    "    (\"vectorizer\", TfidfVectorizer(tokenizer=tokenize_with_stemming,binary=True,min_df=3, ngram_range=(1, 2))),\n",
    "    (\"classifier\", xgb.XGBClassifier(max_feature=0,random_state=r_state,n_estimators=950))\n",
    "])"
   ]
  },
  {
   "cell_type": "code",
   "execution_count": 257,
   "metadata": {},
   "outputs": [
    {
     "data": {
      "text/plain": [
       "Pipeline(memory=None,\n",
       "     steps=[('vectorizer', TfidfVectorizer(analyzer='word', binary=True, decode_error='strict',\n",
       "        dtype=<class 'numpy.int64'>, encoding='utf-8', input='content',\n",
       "        lowercase=True, max_df=1.0, max_features=None, min_df=3,\n",
       "        ngram_range=(1, 2), norm='l2', preprocessor=None, smooth_idf=Tru... reg_alpha=0,\n",
       "       reg_lambda=1, scale_pos_weight=1, seed=None, silent=True,\n",
       "       subsample=1))])"
      ]
     },
     "execution_count": 257,
     "metadata": {},
     "output_type": "execute_result"
    }
   ],
   "source": [
    "modelk3.fit(X_train,y_train)"
   ]
  },
  {
   "cell_type": "code",
   "execution_count": 258,
   "metadata": {
    "collapsed": true
   },
   "outputs": [],
   "source": [
    "scorek3=modelk3.score(X_test, y_test)"
   ]
  },
  {
   "cell_type": "markdown",
   "metadata": {},
   "source": [
    "Trying with MultinominalNB:"
   ]
  },
  {
   "cell_type": "code",
   "execution_count": 259,
   "metadata": {
    "collapsed": true
   },
   "outputs": [],
   "source": [
    "modelk4 = Pipeline([\n",
    "    (\"vectorizer\", TfidfVectorizer(tokenizer=tokenize_with_stemming,binary=True,min_df=3, ngram_range=(1, 2),max_features=400)),\n",
    "    (\"classifier\", MultinomialNB())\n",
    "])"
   ]
  },
  {
   "cell_type": "code",
   "execution_count": 260,
   "metadata": {},
   "outputs": [
    {
     "data": {
      "text/plain": [
       "Pipeline(memory=None,\n",
       "     steps=[('vectorizer', TfidfVectorizer(analyzer='word', binary=True, decode_error='strict',\n",
       "        dtype=<class 'numpy.int64'>, encoding='utf-8', input='content',\n",
       "        lowercase=True, max_df=1.0, max_features=400, min_df=3,\n",
       "        ngram_range=(1, 2), norm='l2', preprocessor=None, smooth_idf=True...True, vocabulary=None)), ('classifier', MultinomialNB(alpha=1.0, class_prior=None, fit_prior=True))])"
      ]
     },
     "execution_count": 260,
     "metadata": {},
     "output_type": "execute_result"
    }
   ],
   "source": [
    "modelk4.fit(X_train,y_train)"
   ]
  },
  {
   "cell_type": "code",
   "execution_count": 261,
   "metadata": {
    "collapsed": true
   },
   "outputs": [],
   "source": [
    "scorek4=modelk4.score(X_test, y_test)"
   ]
  },
  {
   "cell_type": "code",
   "execution_count": 262,
   "metadata": {
    "collapsed": true
   },
   "outputs": [],
   "source": [
    "listScorek = [scorek0,scorek1,scorek2,scorek3,scorek4]"
   ]
  },
  {
   "cell_type": "code",
   "execution_count": 236,
   "metadata": {
    "collapsed": true
   },
   "outputs": [],
   "source": [
    "listModelk = [\"Tree\",\"Random Forest\",\"TdIdf(tokens/stemming/ngrams/maxfeatures) + RandomForest\",\"TdIdf(tokens/stemming/ngrams/maxfeatures) + XGBoost \",\" TdIdf(tokens/stemming/ngrams/maxfeatures) + MultinomialBC \"]"
   ]
  },
  {
   "cell_type": "code",
   "execution_count": 263,
   "metadata": {},
   "outputs": [
    {
     "data": {
      "text/html": [
       "<style  type=\"text/css\" >\n",
       "    #T_29aad6cc_85e9_11e8_9a75_9cb6d0d59790row0_col0 {\n",
       "            width:  345px;\n",
       "        }    #T_29aad6cc_85e9_11e8_9a75_9cb6d0d59790row1_col0 {\n",
       "            width:  345px;\n",
       "        }    #T_29aad6cc_85e9_11e8_9a75_9cb6d0d59790row2_col0 {\n",
       "            width:  345px;\n",
       "        }    #T_29aad6cc_85e9_11e8_9a75_9cb6d0d59790row3_col0 {\n",
       "            width:  345px;\n",
       "        }    #T_29aad6cc_85e9_11e8_9a75_9cb6d0d59790row4_col0 {\n",
       "            width:  345px;\n",
       "        }</style>  \n",
       "<table id=\"T_29aad6cc_85e9_11e8_9a75_9cb6d0d59790\" > \n",
       "<thead>    <tr> \n",
       "        <th class=\"blank level0\" ></th> \n",
       "        <th class=\"col_heading level0 col0\" >Model</th> \n",
       "        <th class=\"col_heading level0 col1\" >Accuracy</th> \n",
       "    </tr></thead> \n",
       "<tbody>    <tr> \n",
       "        <th id=\"T_29aad6cc_85e9_11e8_9a75_9cb6d0d59790level0_row0\" class=\"row_heading level0 row0\" >0</th> \n",
       "        <td id=\"T_29aad6cc_85e9_11e8_9a75_9cb6d0d59790row0_col0\" class=\"data row0 col0\" >Tree</td> \n",
       "        <td id=\"T_29aad6cc_85e9_11e8_9a75_9cb6d0d59790row0_col1\" class=\"data row0 col1\" >0.68125</td> \n",
       "    </tr>    <tr> \n",
       "        <th id=\"T_29aad6cc_85e9_11e8_9a75_9cb6d0d59790level0_row1\" class=\"row_heading level0 row1\" >1</th> \n",
       "        <td id=\"T_29aad6cc_85e9_11e8_9a75_9cb6d0d59790row1_col0\" class=\"data row1 col0\" >Random Forest</td> \n",
       "        <td id=\"T_29aad6cc_85e9_11e8_9a75_9cb6d0d59790row1_col1\" class=\"data row1 col1\" >0.7125</td> \n",
       "    </tr>    <tr> \n",
       "        <th id=\"T_29aad6cc_85e9_11e8_9a75_9cb6d0d59790level0_row2\" class=\"row_heading level0 row2\" >2</th> \n",
       "        <td id=\"T_29aad6cc_85e9_11e8_9a75_9cb6d0d59790row2_col0\" class=\"data row2 col0\" >TdIdf(tokens/stemming/ngrams/maxfeatures) + RandomForest</td> \n",
       "        <td id=\"T_29aad6cc_85e9_11e8_9a75_9cb6d0d59790row2_col1\" class=\"data row2 col1\" >0.74375</td> \n",
       "    </tr>    <tr> \n",
       "        <th id=\"T_29aad6cc_85e9_11e8_9a75_9cb6d0d59790level0_row3\" class=\"row_heading level0 row3\" >3</th> \n",
       "        <td id=\"T_29aad6cc_85e9_11e8_9a75_9cb6d0d59790row3_col0\" class=\"data row3 col0\" >TdIdf(tokens/stemming/ngrams/maxfeatures) + XGBoost </td> \n",
       "        <td id=\"T_29aad6cc_85e9_11e8_9a75_9cb6d0d59790row3_col1\" class=\"data row3 col1\" >0.69375</td> \n",
       "    </tr>    <tr> \n",
       "        <th id=\"T_29aad6cc_85e9_11e8_9a75_9cb6d0d59790level0_row4\" class=\"row_heading level0 row4\" >4</th> \n",
       "        <td id=\"T_29aad6cc_85e9_11e8_9a75_9cb6d0d59790row4_col0\" class=\"data row4 col0\" > TdIdf(tokens/stemming/ngrams/maxfeatures) + MultinomialBC </td> \n",
       "        <td id=\"T_29aad6cc_85e9_11e8_9a75_9cb6d0d59790row4_col1\" class=\"data row4 col1\" >0.65625</td> \n",
       "    </tr></tbody> \n",
       "</table> "
      ],
      "text/plain": [
       "<pandas.io.formats.style.Styler at 0x1ee5bd24080>"
      ]
     },
     "execution_count": 263,
     "metadata": {},
     "output_type": "execute_result"
    }
   ],
   "source": [
    "SummaryAcc = pd.DataFrame({\"Model\": listModelk, \"Accuracy\": listScorek})\n",
    "SummaryAcc = SummaryAcc.iloc[:, ::-1]\n",
    "SummaryAcc.style.set_properties(subset=['Model'], **{'width': '345px'})"
   ]
  },
  {
   "cell_type": "markdown",
   "metadata": {},
   "source": [
    "We estimate the labels on the whole dataset with the best model (TdIdf(tokens/stemming/ngrams/maxfeatures) + RandomForest)  !!! "
   ]
  },
  {
   "cell_type": "code",
   "execution_count": 298,
   "metadata": {
    "collapsed": true
   },
   "outputs": [],
   "source": [
    "dfAll = dfAll.dropna(axis=0, subset=['Descrizione_Chiamata'])"
   ]
  },
  {
   "cell_type": "code",
   "execution_count": 299,
   "metadata": {},
   "outputs": [
    {
     "data": {
      "text/plain": [
       "10210"
      ]
     },
     "execution_count": 299,
     "metadata": {},
     "output_type": "execute_result"
    }
   ],
   "source": [
    "len(dfAll)"
   ]
  },
  {
   "cell_type": "code",
   "execution_count": 300,
   "metadata": {
    "collapsed": true
   },
   "outputs": [],
   "source": [
    "dfAll['Topic'] = modelk2.predict(dfAll.Descrizione_Chiamata)"
   ]
  },
  {
   "cell_type": "code",
   "execution_count": 304,
   "metadata": {
    "collapsed": true
   },
   "outputs": [],
   "source": [
    "dfAll = dfAll.drop(columns=['Nome_Programma_Inerente_Chiamata'])"
   ]
  },
  {
   "cell_type": "code",
   "execution_count": 321,
   "metadata": {
    "collapsed": true
   },
   "outputs": [],
   "source": [
    "dfAll['ID']= dfAll['ID2']"
   ]
  },
  {
   "cell_type": "code",
   "execution_count": 323,
   "metadata": {
    "collapsed": true
   },
   "outputs": [],
   "source": [
    "dfAll = dfAll.drop(columns=['ID2'])"
   ]
  },
  {
   "cell_type": "code",
   "execution_count": 327,
   "metadata": {},
   "outputs": [
    {
     "data": {
      "text/html": [
       "<div>\n",
       "<style scoped>\n",
       "    .dataframe tbody tr th:only-of-type {\n",
       "        vertical-align: middle;\n",
       "    }\n",
       "\n",
       "    .dataframe tbody tr th {\n",
       "        vertical-align: top;\n",
       "    }\n",
       "\n",
       "    .dataframe thead th {\n",
       "        text-align: right;\n",
       "    }\n",
       "</style>\n",
       "<table border=\"1\" class=\"dataframe\">\n",
       "  <thead>\n",
       "    <tr style=\"text-align: right;\">\n",
       "      <th></th>\n",
       "      <th>durata_risoluzione</th>\n",
       "      <th>Data_Arrivo_chiamata</th>\n",
       "      <th>Descrizione_Chiamata</th>\n",
       "      <th>Classe</th>\n",
       "      <th>Natura</th>\n",
       "      <th>Origine_Proglema</th>\n",
       "      <th>Descrizione_Risolutore</th>\n",
       "      <th>Data_Chiusura_Chiamata</th>\n",
       "      <th>Data_Gestione_Chiamata</th>\n",
       "      <th>CLIENTE</th>\n",
       "      <th>UTENTE</th>\n",
       "      <th>DURATA SEGN.</th>\n",
       "      <th>SA</th>\n",
       "      <th>Topic</th>\n",
       "      <th>ID</th>\n",
       "    </tr>\n",
       "  </thead>\n",
       "  <tbody>\n",
       "    <tr>\n",
       "      <th>0</th>\n",
       "      <td>1</td>\n",
       "      <td>2016-01-14 10:39:22</td>\n",
       "      <td>Per HelpDesk / Richiamare Carmela</td>\n",
       "      <td>SW</td>\n",
       "      <td>sw</td>\n",
       "      <td>Cliente</td>\n",
       "      <td>Supporto per ripristinare protocolli autofatture</td>\n",
       "      <td>2016-01-14 10:40:49</td>\n",
       "      <td>giovedì 14 gennaio 2016</td>\n",
       "      <td>C1836</td>\n",
       "      <td>U34</td>\n",
       "      <td>0</td>\n",
       "      <td>Pos</td>\n",
       "      <td>altro</td>\n",
       "      <td>64898</td>\n",
       "    </tr>\n",
       "    <tr>\n",
       "      <th>1</th>\n",
       "      <td>1</td>\n",
       "      <td>2016-01-18 12:56:18</td>\n",
       "      <td>Per HelpDesk / Richiamare Maila x Ammortamenti</td>\n",
       "      <td>SW</td>\n",
       "      <td>sw</td>\n",
       "      <td>Cliente</td>\n",
       "      <td>Supporto per gestire beni inferiori a 516,00 euro</td>\n",
       "      <td>2016-02-22 15:26:32</td>\n",
       "      <td>lunedì 18 gennaio 2016</td>\n",
       "      <td>C233</td>\n",
       "      <td>U34</td>\n",
       "      <td>35</td>\n",
       "      <td>Pos</td>\n",
       "      <td>contabilitÃ</td>\n",
       "      <td>64926</td>\n",
       "    </tr>\n",
       "    <tr>\n",
       "      <th>2</th>\n",
       "      <td>1</td>\n",
       "      <td>2016-01-21 10:03:48</td>\n",
       "      <td>Per HelpDesk / Richiamare Francesca per fattur...</td>\n",
       "      <td>SW</td>\n",
       "      <td>sw</td>\n",
       "      <td>Cliente</td>\n",
       "      <td>Sbloccato fatturazione Killato provesso</td>\n",
       "      <td>2016-01-21 10:04:49</td>\n",
       "      <td>giovedì 21 gennaio 2016</td>\n",
       "      <td>C1887</td>\n",
       "      <td>U34</td>\n",
       "      <td>0</td>\n",
       "      <td>Pos</td>\n",
       "      <td>fattura</td>\n",
       "      <td>64962</td>\n",
       "    </tr>\n",
       "    <tr>\n",
       "      <th>3</th>\n",
       "      <td>1</td>\n",
       "      <td>2016-01-20 17:47:46</td>\n",
       "      <td>Per HelpDesk / Richiamare Dtb anariten (come f...</td>\n",
       "      <td>SW</td>\n",
       "      <td>sw</td>\n",
       "      <td>Cliente</td>\n",
       "      <td>Non si può fare.</td>\n",
       "      <td>2016-01-21 18:03:57</td>\n",
       "      <td>giovedì 21 gennaio 2016</td>\n",
       "      <td>C2182</td>\n",
       "      <td>U34</td>\n",
       "      <td>1</td>\n",
       "      <td>Pos</td>\n",
       "      <td>altro</td>\n",
       "      <td>64958</td>\n",
       "    </tr>\n",
       "    <tr>\n",
       "      <th>5</th>\n",
       "      <td>1</td>\n",
       "      <td>2016-01-28 10:00:41</td>\n",
       "      <td>Per HelpDesk / Richiamare Correggere movimento</td>\n",
       "      <td>SW</td>\n",
       "      <td>sw</td>\n",
       "      <td>Cliente</td>\n",
       "      <td>Coretto movimento contabile anno 2015</td>\n",
       "      <td>2016-01-28 10:28:39</td>\n",
       "      <td>giovedì 28 gennaio 2016</td>\n",
       "      <td>C2182</td>\n",
       "      <td>U34</td>\n",
       "      <td>0</td>\n",
       "      <td>Pos</td>\n",
       "      <td>altro</td>\n",
       "      <td>64997</td>\n",
       "    </tr>\n",
       "  </tbody>\n",
       "</table>\n",
       "</div>"
      ],
      "text/plain": [
       "   durata_risoluzione Data_Arrivo_chiamata  \\\n",
       "0                   1  2016-01-14 10:39:22   \n",
       "1                   1  2016-01-18 12:56:18   \n",
       "2                   1  2016-01-21 10:03:48   \n",
       "3                   1  2016-01-20 17:47:46   \n",
       "5                   1  2016-01-28 10:00:41   \n",
       "\n",
       "                                Descrizione_Chiamata Classe Natura  \\\n",
       "0                  Per HelpDesk / Richiamare Carmela     SW     sw   \n",
       "1     Per HelpDesk / Richiamare Maila x Ammortamenti     SW     sw   \n",
       "2  Per HelpDesk / Richiamare Francesca per fattur...     SW     sw   \n",
       "3  Per HelpDesk / Richiamare Dtb anariten (come f...     SW     sw   \n",
       "5     Per HelpDesk / Richiamare Correggere movimento     SW     sw   \n",
       "\n",
       "  Origine_Proglema                             Descrizione_Risolutore  \\\n",
       "0          Cliente   Supporto per ripristinare protocolli autofatture   \n",
       "1          Cliente  Supporto per gestire beni inferiori a 516,00 euro   \n",
       "2          Cliente            Sbloccato fatturazione Killato provesso   \n",
       "3          Cliente                                   Non si può fare.   \n",
       "5          Cliente              Coretto movimento contabile anno 2015   \n",
       "\n",
       "  Data_Chiusura_Chiamata   Data_Gestione_Chiamata CLIENTE UTENTE  \\\n",
       "0    2016-01-14 10:40:49  giovedì 14 gennaio 2016   C1836    U34   \n",
       "1    2016-02-22 15:26:32   lunedì 18 gennaio 2016    C233    U34   \n",
       "2    2016-01-21 10:04:49  giovedì 21 gennaio 2016   C1887    U34   \n",
       "3    2016-01-21 18:03:57  giovedì 21 gennaio 2016   C2182    U34   \n",
       "5    2016-01-28 10:28:39  giovedì 28 gennaio 2016   C2182    U34   \n",
       "\n",
       "   DURATA SEGN.   SA         Topic      ID  \n",
       "0             0  Pos         altro   64898  \n",
       "1            35  Pos  contabilitÃ    64926  \n",
       "2             0  Pos       fattura   64962  \n",
       "3             1  Pos         altro   64958  \n",
       "5             0  Pos         altro   64997  "
      ]
     },
     "execution_count": 327,
     "metadata": {},
     "output_type": "execute_result"
    }
   ],
   "source": [
    "dfAll.head(5)"
   ]
  },
  {
   "cell_type": "code",
   "execution_count": 328,
   "metadata": {
    "collapsed": true
   },
   "outputs": [],
   "source": [
    " dfAll.dropna(inplace=True)"
   ]
  },
  {
   "cell_type": "code",
   "execution_count": 330,
   "metadata": {
    "collapsed": true
   },
   "outputs": [],
   "source": [
    "dfAll['ID']=dfAll['ID'].apply(StringToInt)"
   ]
  },
  {
   "cell_type": "code",
   "execution_count": 336,
   "metadata": {
    "collapsed": true
   },
   "outputs": [],
   "source": [
    "dfAll['CLIENTE'] = dfAll['CLIENTE'].apply(clean)"
   ]
  },
  {
   "cell_type": "code",
   "execution_count": 337,
   "metadata": {
    "collapsed": true
   },
   "outputs": [],
   "source": [
    "dfAll['UTENTE'] = dfAll['UTENTE'].apply(clean)"
   ]
  },
  {
   "cell_type": "code",
   "execution_count": 338,
   "metadata": {},
   "outputs": [
    {
     "data": {
      "text/html": [
       "<div>\n",
       "<style scoped>\n",
       "    .dataframe tbody tr th:only-of-type {\n",
       "        vertical-align: middle;\n",
       "    }\n",
       "\n",
       "    .dataframe tbody tr th {\n",
       "        vertical-align: top;\n",
       "    }\n",
       "\n",
       "    .dataframe thead th {\n",
       "        text-align: right;\n",
       "    }\n",
       "</style>\n",
       "<table border=\"1\" class=\"dataframe\">\n",
       "  <thead>\n",
       "    <tr style=\"text-align: right;\">\n",
       "      <th></th>\n",
       "      <th>durata_risoluzione</th>\n",
       "      <th>Data_Arrivo_chiamata</th>\n",
       "      <th>Descrizione_Chiamata</th>\n",
       "      <th>Classe</th>\n",
       "      <th>Natura</th>\n",
       "      <th>Origine_Proglema</th>\n",
       "      <th>Descrizione_Risolutore</th>\n",
       "      <th>Data_Chiusura_Chiamata</th>\n",
       "      <th>Data_Gestione_Chiamata</th>\n",
       "      <th>CLIENTE</th>\n",
       "      <th>UTENTE</th>\n",
       "      <th>DURATA SEGN.</th>\n",
       "      <th>SA</th>\n",
       "      <th>Topic</th>\n",
       "      <th>ID</th>\n",
       "    </tr>\n",
       "  </thead>\n",
       "  <tbody>\n",
       "    <tr>\n",
       "      <th>0</th>\n",
       "      <td>1</td>\n",
       "      <td>2016-01-14 10:39:22</td>\n",
       "      <td>Per HelpDesk / Richiamare Carmela</td>\n",
       "      <td>SW</td>\n",
       "      <td>sw</td>\n",
       "      <td>Cliente</td>\n",
       "      <td>Supporto per ripristinare protocolli autofatture</td>\n",
       "      <td>2016-01-14 10:40:49</td>\n",
       "      <td>giovedì 14 gennaio 2016</td>\n",
       "      <td>1836</td>\n",
       "      <td>34</td>\n",
       "      <td>0</td>\n",
       "      <td>Pos</td>\n",
       "      <td>altro</td>\n",
       "      <td>64898</td>\n",
       "    </tr>\n",
       "    <tr>\n",
       "      <th>1</th>\n",
       "      <td>1</td>\n",
       "      <td>2016-01-18 12:56:18</td>\n",
       "      <td>Per HelpDesk / Richiamare Maila x Ammortamenti</td>\n",
       "      <td>SW</td>\n",
       "      <td>sw</td>\n",
       "      <td>Cliente</td>\n",
       "      <td>Supporto per gestire beni inferiori a 516,00 euro</td>\n",
       "      <td>2016-02-22 15:26:32</td>\n",
       "      <td>lunedì 18 gennaio 2016</td>\n",
       "      <td>233</td>\n",
       "      <td>34</td>\n",
       "      <td>35</td>\n",
       "      <td>Pos</td>\n",
       "      <td>contabilitÃ</td>\n",
       "      <td>64926</td>\n",
       "    </tr>\n",
       "    <tr>\n",
       "      <th>2</th>\n",
       "      <td>1</td>\n",
       "      <td>2016-01-21 10:03:48</td>\n",
       "      <td>Per HelpDesk / Richiamare Francesca per fattur...</td>\n",
       "      <td>SW</td>\n",
       "      <td>sw</td>\n",
       "      <td>Cliente</td>\n",
       "      <td>Sbloccato fatturazione Killato provesso</td>\n",
       "      <td>2016-01-21 10:04:49</td>\n",
       "      <td>giovedì 21 gennaio 2016</td>\n",
       "      <td>1887</td>\n",
       "      <td>34</td>\n",
       "      <td>0</td>\n",
       "      <td>Pos</td>\n",
       "      <td>fattura</td>\n",
       "      <td>64962</td>\n",
       "    </tr>\n",
       "    <tr>\n",
       "      <th>3</th>\n",
       "      <td>1</td>\n",
       "      <td>2016-01-20 17:47:46</td>\n",
       "      <td>Per HelpDesk / Richiamare Dtb anariten (come f...</td>\n",
       "      <td>SW</td>\n",
       "      <td>sw</td>\n",
       "      <td>Cliente</td>\n",
       "      <td>Non si può fare.</td>\n",
       "      <td>2016-01-21 18:03:57</td>\n",
       "      <td>giovedì 21 gennaio 2016</td>\n",
       "      <td>2182</td>\n",
       "      <td>34</td>\n",
       "      <td>1</td>\n",
       "      <td>Pos</td>\n",
       "      <td>altro</td>\n",
       "      <td>64958</td>\n",
       "    </tr>\n",
       "    <tr>\n",
       "      <th>5</th>\n",
       "      <td>1</td>\n",
       "      <td>2016-01-28 10:00:41</td>\n",
       "      <td>Per HelpDesk / Richiamare Correggere movimento</td>\n",
       "      <td>SW</td>\n",
       "      <td>sw</td>\n",
       "      <td>Cliente</td>\n",
       "      <td>Coretto movimento contabile anno 2015</td>\n",
       "      <td>2016-01-28 10:28:39</td>\n",
       "      <td>giovedì 28 gennaio 2016</td>\n",
       "      <td>2182</td>\n",
       "      <td>34</td>\n",
       "      <td>0</td>\n",
       "      <td>Pos</td>\n",
       "      <td>altro</td>\n",
       "      <td>64997</td>\n",
       "    </tr>\n",
       "  </tbody>\n",
       "</table>\n",
       "</div>"
      ],
      "text/plain": [
       "   durata_risoluzione Data_Arrivo_chiamata  \\\n",
       "0                   1  2016-01-14 10:39:22   \n",
       "1                   1  2016-01-18 12:56:18   \n",
       "2                   1  2016-01-21 10:03:48   \n",
       "3                   1  2016-01-20 17:47:46   \n",
       "5                   1  2016-01-28 10:00:41   \n",
       "\n",
       "                                Descrizione_Chiamata Classe Natura  \\\n",
       "0                  Per HelpDesk / Richiamare Carmela     SW     sw   \n",
       "1     Per HelpDesk / Richiamare Maila x Ammortamenti     SW     sw   \n",
       "2  Per HelpDesk / Richiamare Francesca per fattur...     SW     sw   \n",
       "3  Per HelpDesk / Richiamare Dtb anariten (come f...     SW     sw   \n",
       "5     Per HelpDesk / Richiamare Correggere movimento     SW     sw   \n",
       "\n",
       "  Origine_Proglema                             Descrizione_Risolutore  \\\n",
       "0          Cliente   Supporto per ripristinare protocolli autofatture   \n",
       "1          Cliente  Supporto per gestire beni inferiori a 516,00 euro   \n",
       "2          Cliente            Sbloccato fatturazione Killato provesso   \n",
       "3          Cliente                                   Non si può fare.   \n",
       "5          Cliente              Coretto movimento contabile anno 2015   \n",
       "\n",
       "  Data_Chiusura_Chiamata   Data_Gestione_Chiamata CLIENTE UTENTE  \\\n",
       "0    2016-01-14 10:40:49  giovedì 14 gennaio 2016    1836     34   \n",
       "1    2016-02-22 15:26:32   lunedì 18 gennaio 2016     233     34   \n",
       "2    2016-01-21 10:04:49  giovedì 21 gennaio 2016    1887     34   \n",
       "3    2016-01-21 18:03:57  giovedì 21 gennaio 2016    2182     34   \n",
       "5    2016-01-28 10:28:39  giovedì 28 gennaio 2016    2182     34   \n",
       "\n",
       "   DURATA SEGN.   SA         Topic     ID  \n",
       "0             0  Pos         altro  64898  \n",
       "1            35  Pos  contabilitÃ   64926  \n",
       "2             0  Pos       fattura  64962  \n",
       "3             1  Pos         altro  64958  \n",
       "5             0  Pos         altro  64997  "
      ]
     },
     "execution_count": 338,
     "metadata": {},
     "output_type": "execute_result"
    }
   ],
   "source": [
    "dfAll.head(5)"
   ]
  },
  {
   "cell_type": "code",
   "execution_count": 340,
   "metadata": {
    "collapsed": true
   },
   "outputs": [],
   "source": [
    "writer = pd.ExcelWriter('dfFinal.xlsx')\n",
    "dfAll.to_excel(writer,'Sheet1')\n",
    "writer.save()"
   ]
  }
 ],
 "metadata": {
  "anaconda-cloud": {},
  "kernelspec": {
   "display_name": "Python 3",
   "language": "python",
   "name": "python3"
  },
  "language_info": {
   "codemirror_mode": {
    "name": "ipython",
    "version": 3
   },
   "file_extension": ".py",
   "mimetype": "text/x-python",
   "name": "python",
   "nbconvert_exporter": "python",
   "pygments_lexer": "ipython3",
   "version": "3.7.3"
  },
  "varInspector": {
   "cols": {
    "lenName": 16,
    "lenType": 16,
    "lenVar": 40
   },
   "kernels_config": {
    "python": {
     "delete_cmd_postfix": "",
     "delete_cmd_prefix": "del ",
     "library": "var_list.py",
     "varRefreshCmd": "print(var_dic_list())"
    },
    "r": {
     "delete_cmd_postfix": ") ",
     "delete_cmd_prefix": "rm(",
     "library": "var_list.r",
     "varRefreshCmd": "cat(var_dic_list()) "
    }
   },
   "oldHeight": 249,
   "position": {
    "height": "40px",
    "left": "1241px",
    "right": "20px",
    "top": "72px",
    "width": "350px"
   },
   "types_to_exclude": [
    "module",
    "function",
    "builtin_function_or_method",
    "instance",
    "_Feature"
   ],
   "varInspector_section_display": "none",
   "window_display": true
  }
 },
 "nbformat": 4,
 "nbformat_minor": 1
}
